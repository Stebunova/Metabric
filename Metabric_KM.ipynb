{
 "cells": [
  {
   "cell_type": "code",
   "execution_count": 1,
   "id": "a9165ce7-6c9f-4250-bb59-a5b1dfd30f1a",
   "metadata": {},
   "outputs": [],
   "source": [
    "import pandas as pd\n",
    "import numpy as np\n",
    "import matplotlib.pyplot as plt\n",
    "import seaborn as sns\n",
    "from sklearn.model_selection import train_test_split\n",
    "from sklearn.pipeline import Pipeline\n",
    "from sklearn.impute import SimpleImputer\n",
    "from sklearn.preprocessing import OneHotEncoder, LabelEncoder\n",
    "from sklearn.preprocessing import StandardScaler, MinMaxScaler\n",
    "from sklearn.compose import ColumnTransformer\n",
    "from pandas.plotting import scatter_matrix\n",
    "from lifelines import KaplanMeierFitter\n",
    "from lifelines.utils import concordance_index\n",
    "from sksurv.nonparametric import kaplan_meier_estimator\n",
    "%matplotlib inline "
   ]
  },
  {
   "cell_type": "code",
   "execution_count": 2,
   "id": "9f32cea1-fccc-482d-8eab-ba12d4053703",
   "metadata": {},
   "outputs": [],
   "source": [
    "X_full = pd.read_csv('/Users/levashev/Desktop/METABRIC_RNA_Mutation.csv', low_memory=False)"
   ]
  },
  {
   "cell_type": "code",
   "execution_count": 3,
   "id": "44c04ecc-d66e-4587-a967-d1f4ed8ecd10",
   "metadata": {},
   "outputs": [],
   "source": [
    "clinical_df = X_full.iloc[:, :31]"
   ]
  },
  {
   "cell_type": "code",
   "execution_count": 4,
   "id": "409e7df5-8c70-47ca-a983-ccc783535637",
   "metadata": {},
   "outputs": [
    {
     "data": {
      "text/plain": [
       "0    1103\n",
       "1     801\n",
       "Name: overall_survival, dtype: int64"
      ]
     },
     "execution_count": 4,
     "metadata": {},
     "output_type": "execute_result"
    }
   ],
   "source": [
    "clinical_df['overall_survival'].value_counts()"
   ]
  },
  {
   "cell_type": "code",
   "execution_count": 5,
   "id": "b5ce42ba-416e-4b51-9232-2350647912ba",
   "metadata": {
    "tags": []
   },
   "outputs": [
    {
     "name": "stdout",
     "output_type": "stream",
     "text": [
      "   patient_id  age_at_diagnosis type_of_breast_surgery    cancer_type  \\\n",
      "0           0             75.65             MASTECTOMY  Breast Cancer   \n",
      "1           2             43.19      BREAST CONSERVING  Breast Cancer   \n",
      "2           5             48.87             MASTECTOMY  Breast Cancer   \n",
      "3           6             47.68             MASTECTOMY  Breast Cancer   \n",
      "4           8             76.97             MASTECTOMY  Breast Cancer   \n",
      "\n",
      "                        cancer_type_detailed cellularity  chemotherapy  \\\n",
      "0           Breast Invasive Ductal Carcinoma         NaN             0   \n",
      "1           Breast Invasive Ductal Carcinoma        High             0   \n",
      "2           Breast Invasive Ductal Carcinoma        High             1   \n",
      "3  Breast Mixed Ductal and Lobular Carcinoma    Moderate             1   \n",
      "4  Breast Mixed Ductal and Lobular Carcinoma        High             1   \n",
      "\n",
      "  pam50_+_claudin-low_subtype  cohort er_status_measured_by_ihc  ...  \\\n",
      "0                 claudin-low     1.0                   Positve  ...   \n",
      "1                        LumA     1.0                   Positve  ...   \n",
      "2                        LumB     1.0                   Positve  ...   \n",
      "3                        LumB     1.0                   Positve  ...   \n",
      "4                        LumB     1.0                   Positve  ...   \n",
      "\n",
      "  nottingham_prognostic_index  oncotree_code overall_survival_months  \\\n",
      "0                       6.044            IDC              140.500000   \n",
      "1                       4.020            IDC               84.633333   \n",
      "2                       4.030            IDC              163.700000   \n",
      "3                       4.050           MDLC              164.933333   \n",
      "4                       6.080           MDLC               41.366667   \n",
      "\n",
      "  overall_survival pr_status  radio_therapy 3-gene_classifier_subtype  \\\n",
      "0                0  Negative              1                 ER-/HER2-   \n",
      "1                0  Positive              1     ER+/HER2- High Prolif   \n",
      "2                1  Positive              0                       NaN   \n",
      "3                0  Positive              1                       NaN   \n",
      "4                1  Positive              1     ER+/HER2- High Prolif   \n",
      "\n",
      "  tumor_size tumor_stage  death_from_cancer  \n",
      "0       22.0         2.0             Living  \n",
      "1       10.0         1.0             Living  \n",
      "2       15.0         2.0    Died of Disease  \n",
      "3       25.0         2.0             Living  \n",
      "4       40.0         2.0    Died of Disease  \n",
      "\n",
      "[5 rows x 31 columns]\n"
     ]
    }
   ],
   "source": [
    "clinical_df_inverted = clinical_df.copy()\n",
    "clinical_df_inverted['overall_survival'] = clinical_df_inverted['overall_survival'].replace([0,1],[1,0])\n",
    "print(clinical_df_inverted.head(5))"
   ]
  },
  {
   "cell_type": "code",
   "execution_count": 6,
   "id": "33e526a3-6b44-442b-b604-9a394d7c4c0e",
   "metadata": {},
   "outputs": [],
   "source": [
    "KM_df = clinical_df_inverted.copy()"
   ]
  },
  {
   "cell_type": "code",
   "execution_count": 7,
   "id": "adba890f-2937-4295-9cee-f9c8f33646f2",
   "metadata": {},
   "outputs": [],
   "source": [
    "KM_df[['overall_survival']] = KM_df[['overall_survival']].astype(bool)"
   ]
  },
  {
   "cell_type": "code",
   "execution_count": 8,
   "id": "cbaaf447-dc3b-4f11-a1ee-9a666d2b3378",
   "metadata": {},
   "outputs": [
    {
     "data": {
      "text/plain": [
       "Text(0.5, 0, 'time')"
      ]
     },
     "execution_count": 8,
     "metadata": {},
     "output_type": "execute_result"
    },
    {
     "data": {
      "image/png": "[encoded data removed]",
      "text/plain": [
       "<Figure size 640x480 with 1 Axes>"
      ]
     },
     "metadata": {},
     "output_type": "display_data"
    }
   ],
   "source": [
    "time, survival_prob = kaplan_meier_estimator(KM_df[\"overall_survival\"], KM_df[\"overall_survival_months\"])\n",
    "plt.step(time, survival_prob, where=\"post\")\n",
    "plt.ylabel(\"est. probability of survival\")\n",
    "plt.xlabel(\"time\")"
   ]
  },
  {
   "cell_type": "code",
   "execution_count": 9,
   "id": "fc7842bb-4fb5-46f4-83c9-561c1982224f",
   "metadata": {},
   "outputs": [
    {
     "data": {
      "text/plain": [
       "3.0    927\n",
       "2.0    740\n",
       "1.0    165\n",
       "Name: neoplasm_histologic_grade, dtype: int64"
      ]
     },
     "execution_count": 9,
     "metadata": {},
     "output_type": "execute_result"
    }
   ],
   "source": [
    "KM_df[\"neoplasm_histologic_grade\"].value_counts()"
   ]
  },
  {
   "cell_type": "code",
   "execution_count": 25,
   "id": "3a9a2950-9bd6-4554-b140-2845ca79a8d9",
   "metadata": {
    "tags": []
   },
   "outputs": [
    {
     "data": {
      "text/plain": [
       "<matplotlib.legend.Legend at 0x129c38c10>"
      ]
     },
     "execution_count": 25,
     "metadata": {},
     "output_type": "execute_result"
    },
    {
     "data": {
      "image/png": "[encoded data removed]",
      "text/plain": [
       "<Figure size 640x480 with 1 Axes>"
      ]
     },
     "metadata": {},
     "output_type": "display_data"
    }
   ],
   "source": [
    "for value in KM_df[\"neoplasm_histologic_grade\"].unique():\n",
    "    mask = KM_df[\"neoplasm_histologic_grade\"] == value\n",
    "    time_grade, survival_prob_grade = kaplan_meier_estimator(KM_df[\"overall_survival\"][mask],\n",
    "                                                           KM_df[\"overall_survival_months\"][mask])\n",
    "    plt.step(time_grade, survival_prob_grade, where=\"post\",\n",
    "             label=\"%s (n = %d)\" % (value, mask.sum()))\n",
    "plt.ylabel(\"est. probability of survival $\\hat{S}(t)$\")\n",
    "plt.xlabel(\"time $t$\")\n",
    "plt.legend(loc=\"best\")"
   ]
  },
  {
   "cell_type": "code",
   "execution_count": 11,
   "id": "acbc0111-15c8-4a29-a792-625bb9f74972",
   "metadata": {
    "tags": []
   },
   "outputs": [],
   "source": [
    "KM_df.drop(['patient_id', 'cohort'], axis=1, inplace=True)"
   ]
  },
  {
   "cell_type": "code",
   "execution_count": 12,
   "id": "08889f15-dc13-4175-8d0e-a5d923fe2c4b",
   "metadata": {},
   "outputs": [
    {
     "name": "stderr",
     "output_type": "stream",
     "text": [
      "/var/folders/vh/hc2rrhwj2815q2zt0v5kkzlw0000gn/T/ipykernel_47159/666758486.py:1: FutureWarning: The default value of numeric_only in DataFrame.median is deprecated. In a future version, it will default to False. In addition, specifying 'numeric_only=None' is deprecated. Select only valid columns or specify the value of numeric_only to silence this warning.\n",
      "  KM_df = KM_df.fillna(KM_df.median())\n"
     ]
    }
   ],
   "source": [
    "KM_df = KM_df.fillna(KM_df.median())"
   ]
  },
  {
   "cell_type": "code",
   "execution_count": 13,
   "id": "42668b70-34df-4d5e-9c26-bf26b649dfc2",
   "metadata": {},
   "outputs": [
    {
     "name": "stdout",
     "output_type": "stream",
     "text": [
      "['age_at_diagnosis', 'chemotherapy', 'neoplasm_histologic_grade', 'hormone_therapy', 'lymph_nodes_examined_positive', 'mutation_count', 'nottingham_prognostic_index', 'overall_survival_months', 'radio_therapy', 'tumor_size', 'tumor_stage']\n"
     ]
    }
   ],
   "source": [
    "num_columns = [cname for cname in KM_df.columns if \n",
    "                KM_df[cname].dtype in ['int64', 'float64']]\n",
    "print(num_columns)"
   ]
  },
  {
   "cell_type": "code",
   "execution_count": 14,
   "id": "722bf179-1bee-4236-a274-71ebc632b14b",
   "metadata": {},
   "outputs": [
    {
     "name": "stdout",
     "output_type": "stream",
     "text": [
      "['type_of_breast_surgery', 'cancer_type', 'cancer_type_detailed', 'cellularity', 'pam50_+_claudin-low_subtype', 'er_status_measured_by_ihc', 'er_status', 'her2_status_measured_by_snp6', 'her2_status', 'tumor_other_histologic_subtype', 'inferred_menopausal_state', 'integrative_cluster', 'primary_tumor_laterality', 'oncotree_code', 'pr_status', '3-gene_classifier_subtype', 'death_from_cancer']\n"
     ]
    }
   ],
   "source": [
    "cat_columns = [cname for cname in KM_df.columns if\n",
    "                    KM_df[cname].dtype == \"object\"]\n",
    "print(cat_columns)"
   ]
  },
  {
   "cell_type": "code",
   "execution_count": 15,
   "id": "668a7f35-fc7e-428f-a4d5-344df35d648a",
   "metadata": {},
   "outputs": [],
   "source": [
    "my_columns = cat_columns + num_columns"
   ]
  },
  {
   "cell_type": "code",
   "execution_count": 16,
   "id": "5f936fb4-7cd4-4422-a2cc-11217f21beeb",
   "metadata": {},
   "outputs": [
    {
     "data": {
      "text/html": [
       "<div>\n",
       "<style scoped>\n",
       "    .dataframe tbody tr th:only-of-type {\n",
       "        vertical-align: middle;\n",
       "    }\n",
       "\n",
       "    .dataframe tbody tr th {\n",
       "        vertical-align: top;\n",
       "    }\n",
       "\n",
       "    .dataframe thead th {\n",
       "        text-align: right;\n",
       "    }\n",
       "</style>\n",
       "<table border=\"1\" class=\"dataframe\">\n",
       "  <thead>\n",
       "    <tr style=\"text-align: right;\">\n",
       "      <th></th>\n",
       "      <th>age_at_diagnosis</th>\n",
       "      <th>chemotherapy</th>\n",
       "      <th>neoplasm_histologic_grade</th>\n",
       "      <th>hormone_therapy</th>\n",
       "      <th>lymph_nodes_examined_positive</th>\n",
       "      <th>mutation_count</th>\n",
       "      <th>nottingham_prognostic_index</th>\n",
       "      <th>overall_survival_months</th>\n",
       "      <th>overall_survival</th>\n",
       "      <th>radio_therapy</th>\n",
       "      <th>...</th>\n",
       "      <th>oncotree_code_MDLC</th>\n",
       "      <th>pr_status_Negative</th>\n",
       "      <th>pr_status_Positive</th>\n",
       "      <th>3-gene_classifier_subtype_ER+/HER2- High Prolif</th>\n",
       "      <th>3-gene_classifier_subtype_ER+/HER2- Low Prolif</th>\n",
       "      <th>3-gene_classifier_subtype_ER-/HER2-</th>\n",
       "      <th>3-gene_classifier_subtype_HER2+</th>\n",
       "      <th>death_from_cancer_Died of Disease</th>\n",
       "      <th>death_from_cancer_Died of Other Causes</th>\n",
       "      <th>death_from_cancer_Living</th>\n",
       "    </tr>\n",
       "  </thead>\n",
       "  <tbody>\n",
       "    <tr>\n",
       "      <th>0</th>\n",
       "      <td>75.65</td>\n",
       "      <td>0</td>\n",
       "      <td>3.0</td>\n",
       "      <td>1</td>\n",
       "      <td>10.0</td>\n",
       "      <td>5.0</td>\n",
       "      <td>6.044</td>\n",
       "      <td>140.500000</td>\n",
       "      <td>False</td>\n",
       "      <td>1</td>\n",
       "      <td>...</td>\n",
       "      <td>0</td>\n",
       "      <td>1</td>\n",
       "      <td>0</td>\n",
       "      <td>0</td>\n",
       "      <td>0</td>\n",
       "      <td>1</td>\n",
       "      <td>0</td>\n",
       "      <td>0</td>\n",
       "      <td>0</td>\n",
       "      <td>1</td>\n",
       "    </tr>\n",
       "    <tr>\n",
       "      <th>1</th>\n",
       "      <td>43.19</td>\n",
       "      <td>0</td>\n",
       "      <td>3.0</td>\n",
       "      <td>1</td>\n",
       "      <td>0.0</td>\n",
       "      <td>2.0</td>\n",
       "      <td>4.020</td>\n",
       "      <td>84.633333</td>\n",
       "      <td>False</td>\n",
       "      <td>1</td>\n",
       "      <td>...</td>\n",
       "      <td>0</td>\n",
       "      <td>0</td>\n",
       "      <td>1</td>\n",
       "      <td>1</td>\n",
       "      <td>0</td>\n",
       "      <td>0</td>\n",
       "      <td>0</td>\n",
       "      <td>0</td>\n",
       "      <td>0</td>\n",
       "      <td>1</td>\n",
       "    </tr>\n",
       "    <tr>\n",
       "      <th>2</th>\n",
       "      <td>48.87</td>\n",
       "      <td>1</td>\n",
       "      <td>2.0</td>\n",
       "      <td>1</td>\n",
       "      <td>1.0</td>\n",
       "      <td>2.0</td>\n",
       "      <td>4.030</td>\n",
       "      <td>163.700000</td>\n",
       "      <td>True</td>\n",
       "      <td>0</td>\n",
       "      <td>...</td>\n",
       "      <td>0</td>\n",
       "      <td>0</td>\n",
       "      <td>1</td>\n",
       "      <td>0</td>\n",
       "      <td>0</td>\n",
       "      <td>0</td>\n",
       "      <td>0</td>\n",
       "      <td>1</td>\n",
       "      <td>0</td>\n",
       "      <td>0</td>\n",
       "    </tr>\n",
       "    <tr>\n",
       "      <th>3</th>\n",
       "      <td>47.68</td>\n",
       "      <td>1</td>\n",
       "      <td>2.0</td>\n",
       "      <td>1</td>\n",
       "      <td>3.0</td>\n",
       "      <td>1.0</td>\n",
       "      <td>4.050</td>\n",
       "      <td>164.933333</td>\n",
       "      <td>False</td>\n",
       "      <td>1</td>\n",
       "      <td>...</td>\n",
       "      <td>1</td>\n",
       "      <td>0</td>\n",
       "      <td>1</td>\n",
       "      <td>0</td>\n",
       "      <td>0</td>\n",
       "      <td>0</td>\n",
       "      <td>0</td>\n",
       "      <td>0</td>\n",
       "      <td>0</td>\n",
       "      <td>1</td>\n",
       "    </tr>\n",
       "    <tr>\n",
       "      <th>4</th>\n",
       "      <td>76.97</td>\n",
       "      <td>1</td>\n",
       "      <td>3.0</td>\n",
       "      <td>1</td>\n",
       "      <td>8.0</td>\n",
       "      <td>2.0</td>\n",
       "      <td>6.080</td>\n",
       "      <td>41.366667</td>\n",
       "      <td>True</td>\n",
       "      <td>1</td>\n",
       "      <td>...</td>\n",
       "      <td>1</td>\n",
       "      <td>0</td>\n",
       "      <td>1</td>\n",
       "      <td>1</td>\n",
       "      <td>0</td>\n",
       "      <td>0</td>\n",
       "      <td>0</td>\n",
       "      <td>1</td>\n",
       "      <td>0</td>\n",
       "      <td>0</td>\n",
       "    </tr>\n",
       "  </tbody>\n",
       "</table>\n",
       "<p>5 rows × 80 columns</p>\n",
       "</div>"
      ],
      "text/plain": [
       "   age_at_diagnosis  chemotherapy  neoplasm_histologic_grade  hormone_therapy  \\\n",
       "0             75.65             0                        3.0                1   \n",
       "1             43.19             0                        3.0                1   \n",
       "2             48.87             1                        2.0                1   \n",
       "3             47.68             1                        2.0                1   \n",
       "4             76.97             1                        3.0                1   \n",
       "\n",
       "   lymph_nodes_examined_positive  mutation_count  nottingham_prognostic_index  \\\n",
       "0                           10.0             5.0                        6.044   \n",
       "1                            0.0             2.0                        4.020   \n",
       "2                            1.0             2.0                        4.030   \n",
       "3                            3.0             1.0                        4.050   \n",
       "4                            8.0             2.0                        6.080   \n",
       "\n",
       "   overall_survival_months  overall_survival  radio_therapy  ...  \\\n",
       "0               140.500000             False              1  ...   \n",
       "1                84.633333             False              1  ...   \n",
       "2               163.700000              True              0  ...   \n",
       "3               164.933333             False              1  ...   \n",
       "4                41.366667              True              1  ...   \n",
       "\n",
       "   oncotree_code_MDLC  pr_status_Negative  pr_status_Positive  \\\n",
       "0                   0                   1                   0   \n",
       "1                   0                   0                   1   \n",
       "2                   0                   0                   1   \n",
       "3                   1                   0                   1   \n",
       "4                   1                   0                   1   \n",
       "\n",
       "   3-gene_classifier_subtype_ER+/HER2- High Prolif  \\\n",
       "0                                                0   \n",
       "1                                                1   \n",
       "2                                                0   \n",
       "3                                                0   \n",
       "4                                                1   \n",
       "\n",
       "   3-gene_classifier_subtype_ER+/HER2- Low Prolif  \\\n",
       "0                                               0   \n",
       "1                                               0   \n",
       "2                                               0   \n",
       "3                                               0   \n",
       "4                                               0   \n",
       "\n",
       "   3-gene_classifier_subtype_ER-/HER2-  3-gene_classifier_subtype_HER2+  \\\n",
       "0                                    1                                0   \n",
       "1                                    0                                0   \n",
       "2                                    0                                0   \n",
       "3                                    0                                0   \n",
       "4                                    0                                0   \n",
       "\n",
       "   death_from_cancer_Died of Disease  death_from_cancer_Died of Other Causes  \\\n",
       "0                                  0                                       0   \n",
       "1                                  0                                       0   \n",
       "2                                  1                                       0   \n",
       "3                                  0                                       0   \n",
       "4                                  1                                       0   \n",
       "\n",
       "   death_from_cancer_Living  \n",
       "0                         1  \n",
       "1                         1  \n",
       "2                         0  \n",
       "3                         1  \n",
       "4                         0  \n",
       "\n",
       "[5 rows x 80 columns]"
      ]
     },
     "execution_count": 16,
     "metadata": {},
     "output_type": "execute_result"
    }
   ],
   "source": [
    "KM_df_dum = pd.get_dummies(KM_df, columns = cat_columns)\n",
    "KM_df_dum.head(5)"
   ]
  },
  {
   "cell_type": "code",
   "execution_count": 17,
   "id": "ecd2be02-4ca3-4aeb-9016-1a9e839768fe",
   "metadata": {},
   "outputs": [],
   "source": [
    "KM_df_y = KM_df.copy()"
   ]
  },
  {
   "cell_type": "code",
   "execution_count": 18,
   "id": "b7cf132b-b487-4fa9-8953-389903a4a779",
   "metadata": {
    "tags": []
   },
   "outputs": [
    {
     "data": {
      "text/plain": [
       "Index(['age_at_diagnosis', 'type_of_breast_surgery', 'cancer_type',\n",
       "       'cancer_type_detailed', 'cellularity', 'chemotherapy',\n",
       "       'pam50_+_claudin-low_subtype', 'er_status_measured_by_ihc', 'er_status',\n",
       "       'neoplasm_histologic_grade', 'her2_status_measured_by_snp6',\n",
       "       'her2_status', 'tumor_other_histologic_subtype', 'hormone_therapy',\n",
       "       'inferred_menopausal_state', 'integrative_cluster',\n",
       "       'primary_tumor_laterality', 'lymph_nodes_examined_positive',\n",
       "       'mutation_count', 'nottingham_prognostic_index', 'oncotree_code',\n",
       "       'overall_survival_months', 'overall_survival', 'pr_status',\n",
       "       'radio_therapy', '3-gene_classifier_subtype', 'tumor_size',\n",
       "       'tumor_stage', 'death_from_cancer'],\n",
       "      dtype='object')"
      ]
     },
     "execution_count": 18,
     "metadata": {},
     "output_type": "execute_result"
    }
   ],
   "source": [
    "KM_df.columns"
   ]
  },
  {
   "cell_type": "code",
   "execution_count": null,
   "id": "78f0a542-b419-4b4a-9f6e-b44692affdc8",
   "metadata": {},
   "outputs": [],
   "source": []
  },
  {
   "cell_type": "code",
   "execution_count": null,
   "id": "c73b7ad3-a2fd-4491-ae57-7397b8af0b55",
   "metadata": {},
   "outputs": [],
   "source": []
  },
  {
   "cell_type": "code",
   "execution_count": 19,
   "id": "b39e6287-a6aa-4b9e-978b-6a538b727a3e",
   "metadata": {},
   "outputs": [],
   "source": [
    "KM_df_y.drop(['age_at_diagnosis', 'type_of_breast_surgery', 'cancer_type',\n",
    "       'cancer_type_detailed', 'cellularity', 'chemotherapy',\n",
    "       'pam50_+_claudin-low_subtype', 'er_status_measured_by_ihc', 'er_status',\n",
    "       'neoplasm_histologic_grade', 'her2_status_measured_by_snp6',\n",
    "       'her2_status', 'tumor_other_histologic_subtype', 'hormone_therapy',\n",
    "       'inferred_menopausal_state', 'integrative_cluster',\n",
    "       'primary_tumor_laterality', 'lymph_nodes_examined_positive',\n",
    "       'mutation_count', 'nottingham_prognostic_index', 'oncotree_code', 'pr_status',\n",
    "       'radio_therapy', '3-gene_classifier_subtype', 'tumor_size',\n",
    "       'tumor_stage', 'death_from_cancer'], axis=1, inplace=True)"
   ]
  },
  {
   "cell_type": "code",
   "execution_count": 20,
   "id": "23af79e8-23f2-43fe-8708-452532f9f174",
   "metadata": {
    "tags": []
   },
   "outputs": [
    {
     "name": "stdout",
     "output_type": "stream",
     "text": [
      "      overall_survival_months  overall_survival\n",
      "0                  140.500000             False\n",
      "1                   84.633333             False\n",
      "2                  163.700000              True\n",
      "3                  164.933333             False\n",
      "4                   41.366667              True\n",
      "...                       ...               ...\n",
      "1899               196.866667             False\n",
      "1900                44.733333              True\n",
      "1901               175.966667              True\n",
      "1902                86.233333              True\n",
      "1903               201.900000              True\n",
      "\n",
      "[1904 rows x 2 columns]\n"
     ]
    }
   ],
   "source": [
    "print(KM_df_y)"
   ]
  },
  {
   "cell_type": "code",
   "execution_count": 21,
   "id": "08b0d94d-c55e-485b-83a3-8289ab288221",
   "metadata": {
    "tags": []
   },
   "outputs": [
    {
     "name": "stdout",
     "output_type": "stream",
     "text": [
      "      overall_survival  overall_survival_months\n",
      "0                False               140.500000\n",
      "1                False                84.633333\n",
      "2                 True               163.700000\n",
      "3                False               164.933333\n",
      "4                 True                41.366667\n",
      "...                ...                      ...\n",
      "1899             False               196.866667\n",
      "1900              True                44.733333\n",
      "1901              True               175.966667\n",
      "1902              True                86.233333\n",
      "1903              True               201.900000\n",
      "\n",
      "[1904 rows x 2 columns]\n"
     ]
    }
   ],
   "source": [
    "KM_df_y_rear = KM_df_y[['overall_survival', 'overall_survival_months']]\n",
    "print(KM_df_y_rear)"
   ]
  },
  {
   "cell_type": "code",
   "execution_count": 22,
   "id": "d7616720-a365-4941-a7f9-5b9fd2c587e0",
   "metadata": {},
   "outputs": [
    {
     "name": "stdout",
     "output_type": "stream",
     "text": [
      "[[False 140.5]\n",
      " [False 84.63333333]\n",
      " [True 163.7]\n",
      " ...\n",
      " [True 175.9666667]\n",
      " [True 86.23333333]\n",
      " [True 201.9]]\n"
     ]
    }
   ],
   "source": [
    "new_KM = KM_df_y_rear[['overall_survival', 'overall_survival_months']].to_numpy()\n",
    "print(new_KM)"
   ]
  },
  {
   "cell_type": "code",
   "execution_count": 23,
   "id": "52c78396-297c-4e9e-ad88-94008608f816",
   "metadata": {},
   "outputs": [
    {
     "data": {
      "text/plain": [
       "array([(False, 140.5       ), (False,  84.63333333),\n",
       "       ( True, 163.7       ), ..., ( True, 175.9666667 ),\n",
       "       ( True,  86.23333333), ( True, 201.9       )],\n",
       "      dtype=[('Status', '?'), ('Survival_in_days', '<f8')])"
      ]
     },
     "execution_count": 23,
     "metadata": {},
     "output_type": "execute_result"
    }
   ],
   "source": [
    "#Делаем структурированный массив\n",
    "dt=dtype=[('Status', '?'), ('Survival_in_days', '<f8')]\n",
    "\n",
    "#Structured array\n",
    "struct_KM = np.array([tuple(row) for row in new_KM], dtype=dt)\n",
    "struct_KM"
   ]
  },
  {
   "cell_type": "code",
   "execution_count": 40,
   "id": "fa7b88aa-e2b7-4061-9f2c-1fcb531b7cca",
   "metadata": {
    "tags": []
   },
   "outputs": [
    {
     "name": "stdout",
     "output_type": "stream",
     "text": [
      "<class 'pandas.core.frame.DataFrame'>\n",
      "RangeIndex: 1904 entries, 0 to 1903\n",
      "Data columns (total 10 columns):\n",
      " #   Column                         Non-Null Count  Dtype  \n",
      "---  ------                         --------------  -----  \n",
      " 0   age_at_diagnosis               1904 non-null   float64\n",
      " 1   chemotherapy                   1904 non-null   int64  \n",
      " 2   neoplasm_histologic_grade      1904 non-null   float64\n",
      " 3   hormone_therapy                1904 non-null   int64  \n",
      " 4   lymph_nodes_examined_positive  1904 non-null   float64\n",
      " 5   mutation_count                 1904 non-null   float64\n",
      " 6   nottingham_prognostic_index    1904 non-null   float64\n",
      " 7   radio_therapy                  1904 non-null   int64  \n",
      " 8   tumor_size                     1904 non-null   float64\n",
      " 9   tumor_stage                    1904 non-null   float64\n",
      "dtypes: float64(7), int64(3)\n",
      "memory usage: 148.9 KB\n"
     ]
    }
   ],
   "source": [
    "KM_df_x_num = KM_df_x.copy()\n",
    "KM_df_x_num.drop(['type_of_breast_surgery', 'cancer_type', 'cancer_type_detailed', \n",
    "                  'cellularity', 'pam50_+_claudin-low_subtype', 'er_status_measured_by_ihc', \n",
    "                  'er_status', 'her2_status_measured_by_snp6', 'her2_status', 'tumor_other_histologic_subtype', \n",
    "                  'inferred_menopausal_state', 'integrative_cluster', 'primary_tumor_laterality', \n",
    "                  'oncotree_code', 'pr_status', '3-gene_classifier_subtype', 'death_from_cancer'], axis=1, inplace=True)\n",
    "KM_df_x_num.info()"
   ]
  },
  {
   "cell_type": "code",
   "execution_count": 41,
   "id": "53589d00-2a7e-4a1e-91a5-4849416f160a",
   "metadata": {},
   "outputs": [
    {
     "data": {
      "text/plain": [
       "CoxPHSurvivalAnalysis()"
      ]
     },
     "execution_count": 41,
     "metadata": {},
     "output_type": "execute_result"
    }
   ],
   "source": [
    "from sklearn import set_config\n",
    "from sksurv.linear_model import CoxPHSurvivalAnalysis\n",
    "\n",
    "set_config(display=\"text\")  # displays text representation of estimators\n",
    "\n",
    "estimator = CoxPHSurvivalAnalysis()\n",
    "estimator.fit(KM_df_x_num, struct_KM)\n",
    "CoxPHSurvivalAnalysis()"
   ]
  },
  {
   "cell_type": "code",
   "execution_count": 42,
   "id": "8f9018b2-9e00-4c3a-8014-8c304de7eef4",
   "metadata": {},
   "outputs": [
    {
     "data": {
      "text/plain": [
       "age_at_diagnosis                 0.040291\n",
       "chemotherapy                     0.366882\n",
       "neoplasm_histologic_grade        0.085004\n",
       "hormone_therapy                 -0.113805\n",
       "lymph_nodes_examined_positive    0.041925\n",
       "mutation_count                   0.002712\n",
       "nottingham_prognostic_index      0.132634\n",
       "radio_therapy                   -0.274418\n",
       "tumor_size                       0.006705\n",
       "tumor_stage                      0.190613\n",
       "dtype: float64"
      ]
     },
     "execution_count": 42,
     "metadata": {},
     "output_type": "execute_result"
    }
   ],
   "source": [
    "pd.Series(estimator.coef_, index=KM_df_x_num.columns)"
   ]
  },
  {
   "cell_type": "code",
   "execution_count": null,
   "id": "8f354a23-2a9d-44be-b008-ba2ebf41345f",
   "metadata": {},
   "outputs": [],
   "source": []
  }
 ],
 "metadata": {
  "kernelspec": {
   "display_name": "Python 3 (ipykernel)",
   "language": "python",
   "name": "python3"
  },
  "language_info": {
   "codemirror_mode": {
    "name": "ipython",
    "version": 3
   },
   "file_extension": ".py",
   "mimetype": "text/x-python",
   "name": "python",
   "nbconvert_exporter": "python",
   "pygments_lexer": "ipython3",
   "version": "3.9.13"
  }
 },
 "nbformat": 4,
 "nbformat_minor": 5
}
