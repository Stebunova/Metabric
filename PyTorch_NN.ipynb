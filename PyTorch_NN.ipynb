{
  "nbformat": 4,
  "nbformat_minor": 0,
  "metadata": {
    "colab": {
      "provenance": []
    },
    "kernelspec": {
      "name": "python3",
      "display_name": "Python 3"
    },
    "language_info": {
      "name": "python"
    }
  },
  "cells": [
    {
      "cell_type": "code",
      "source": [
        "!pip install torchtuples"
      ],
      "metadata": {
        "colab": {
          "base_uri": "https://localhost:8080/"
        },
        "id": "w4VkjJmJLw31",
        "outputId": "76243fc6-1c3a-467e-841e-350b08e54911"
      },
      "execution_count": 36,
      "outputs": [
        {
          "output_type": "stream",
          "name": "stdout",
          "text": [
            "Looking in indexes: https://pypi.org/simple, https://us-python.pkg.dev/colab-wheels/public/simple/\n",
            "Requirement already satisfied: torchtuples in /usr/local/lib/python3.9/dist-packages (0.2.2)\n",
            "Requirement already satisfied: numpy>=1.15.4 in /usr/local/lib/python3.9/dist-packages (from torchtuples) (1.22.4)\n",
            "Requirement already satisfied: matplotlib>=3.0.3 in /usr/local/lib/python3.9/dist-packages (from torchtuples) (3.7.1)\n",
            "Requirement already satisfied: pandas>=0.24.2 in /usr/local/lib/python3.9/dist-packages (from torchtuples) (1.5.3)\n",
            "Requirement already satisfied: fonttools>=4.22.0 in /usr/local/lib/python3.9/dist-packages (from matplotlib>=3.0.3->torchtuples) (4.39.3)\n",
            "Requirement already satisfied: cycler>=0.10 in /usr/local/lib/python3.9/dist-packages (from matplotlib>=3.0.3->torchtuples) (0.11.0)\n",
            "Requirement already satisfied: importlib-resources>=3.2.0 in /usr/local/lib/python3.9/dist-packages (from matplotlib>=3.0.3->torchtuples) (5.12.0)\n",
            "Requirement already satisfied: kiwisolver>=1.0.1 in /usr/local/lib/python3.9/dist-packages (from matplotlib>=3.0.3->torchtuples) (1.4.4)\n",
            "Requirement already satisfied: pyparsing>=2.3.1 in /usr/local/lib/python3.9/dist-packages (from matplotlib>=3.0.3->torchtuples) (3.0.9)\n",
            "Requirement already satisfied: python-dateutil>=2.7 in /usr/local/lib/python3.9/dist-packages (from matplotlib>=3.0.3->torchtuples) (2.8.2)\n",
            "Requirement already satisfied: pillow>=6.2.0 in /usr/local/lib/python3.9/dist-packages (from matplotlib>=3.0.3->torchtuples) (8.4.0)\n",
            "Requirement already satisfied: packaging>=20.0 in /usr/local/lib/python3.9/dist-packages (from matplotlib>=3.0.3->torchtuples) (23.1)\n",
            "Requirement already satisfied: contourpy>=1.0.1 in /usr/local/lib/python3.9/dist-packages (from matplotlib>=3.0.3->torchtuples) (1.0.7)\n",
            "Requirement already satisfied: pytz>=2020.1 in /usr/local/lib/python3.9/dist-packages (from pandas>=0.24.2->torchtuples) (2022.7.1)\n",
            "Requirement already satisfied: zipp>=3.1.0 in /usr/local/lib/python3.9/dist-packages (from importlib-resources>=3.2.0->matplotlib>=3.0.3->torchtuples) (3.15.0)\n",
            "Requirement already satisfied: six>=1.5 in /usr/local/lib/python3.9/dist-packages (from python-dateutil>=2.7->matplotlib>=3.0.3->torchtuples) (1.16.0)\n"
          ]
        }
      ]
    },
    {
      "cell_type": "code",
      "execution_count": 37,
      "metadata": {
        "id": "X1zno5FHLXgp"
      },
      "outputs": [],
      "source": [
        "import torch\n",
        "import numpy as np\n",
        "import pandas as pd\n",
        "import matplotlib.pyplot as plt\n",
        "from sklearn.preprocessing import StandardScaler\n",
        "from sklearn.model_selection import train_test_split\n",
        "from sklearn.impute import SimpleImputer\n",
        "from sklearn.preprocessing import LabelEncoder, OrdinalEncoder, OneHotEncoder\n",
        "from sklearn.pipeline import Pipeline\n",
        "import torchtuples as tt\n",
        "from sklearn.compose import ColumnTransformer\n",
        "from sklearn_pandas import DataFrameMapper \n",
        "%matplotlib inline "
      ]
    },
    {
      "cell_type": "code",
      "source": [
        "!pip install pycox"
      ],
      "metadata": {
        "colab": {
          "base_uri": "https://localhost:8080/"
        },
        "id": "s0PZUrtiMBbb",
        "outputId": "e61ee330-f3b8-49e8-c67a-ad9c87d1fc58"
      },
      "execution_count": 38,
      "outputs": [
        {
          "output_type": "stream",
          "name": "stdout",
          "text": [
            "Looking in indexes: https://pypi.org/simple, https://us-python.pkg.dev/colab-wheels/public/simple/\n",
            "Requirement already satisfied: pycox in /usr/local/lib/python3.9/dist-packages (0.2.3)\n",
            "Requirement already satisfied: torchtuples>=0.2.0 in /usr/local/lib/python3.9/dist-packages (from pycox) (0.2.2)\n",
            "Requirement already satisfied: requests>=2.22.0 in /usr/local/lib/python3.9/dist-packages (from pycox) (2.27.1)\n",
            "Requirement already satisfied: scikit-learn>=0.21.2 in /usr/local/lib/python3.9/dist-packages (from pycox) (1.2.2)\n",
            "Requirement already satisfied: feather-format>=0.4.0 in /usr/local/lib/python3.9/dist-packages (from pycox) (0.4.1)\n",
            "Requirement already satisfied: numba>=0.44 in /usr/local/lib/python3.9/dist-packages (from pycox) (0.56.4)\n",
            "Requirement already satisfied: py7zr>=0.11.3 in /usr/local/lib/python3.9/dist-packages (from pycox) (0.20.5)\n",
            "Requirement already satisfied: h5py>=2.9.0 in /usr/local/lib/python3.9/dist-packages (from pycox) (3.8.0)\n",
            "Requirement already satisfied: pyarrow>=0.4.0 in /usr/local/lib/python3.9/dist-packages (from feather-format>=0.4.0->pycox) (9.0.0)\n",
            "Requirement already satisfied: numpy>=1.14.5 in /usr/local/lib/python3.9/dist-packages (from h5py>=2.9.0->pycox) (1.22.4)\n",
            "Requirement already satisfied: llvmlite<0.40,>=0.39.0dev0 in /usr/local/lib/python3.9/dist-packages (from numba>=0.44->pycox) (0.39.1)\n",
            "Requirement already satisfied: setuptools in /usr/local/lib/python3.9/dist-packages (from numba>=0.44->pycox) (67.6.1)\n",
            "Requirement already satisfied: brotli>=1.0.9 in /usr/local/lib/python3.9/dist-packages (from py7zr>=0.11.3->pycox) (1.0.9)\n",
            "Requirement already satisfied: pyzstd>=0.14.4 in /usr/local/lib/python3.9/dist-packages (from py7zr>=0.11.3->pycox) (0.15.6)\n",
            "Requirement already satisfied: pybcj>=0.6.0 in /usr/local/lib/python3.9/dist-packages (from py7zr>=0.11.3->pycox) (1.0.1)\n",
            "Requirement already satisfied: inflate64>=0.3.1 in /usr/local/lib/python3.9/dist-packages (from py7zr>=0.11.3->pycox) (0.3.1)\n",
            "Requirement already satisfied: texttable in /usr/local/lib/python3.9/dist-packages (from py7zr>=0.11.3->pycox) (1.6.7)\n",
            "Requirement already satisfied: pycryptodomex>=3.6.6 in /usr/local/lib/python3.9/dist-packages (from py7zr>=0.11.3->pycox) (3.17)\n",
            "Requirement already satisfied: multivolumefile>=0.2.3 in /usr/local/lib/python3.9/dist-packages (from py7zr>=0.11.3->pycox) (0.2.3)\n",
            "Requirement already satisfied: pyppmd<1.1.0,>=0.18.1 in /usr/local/lib/python3.9/dist-packages (from py7zr>=0.11.3->pycox) (1.0.0)\n",
            "Requirement already satisfied: psutil in /usr/local/lib/python3.9/dist-packages (from py7zr>=0.11.3->pycox) (5.9.5)\n",
            "Requirement already satisfied: urllib3<1.27,>=1.21.1 in /usr/local/lib/python3.9/dist-packages (from requests>=2.22.0->pycox) (1.26.15)\n",
            "Requirement already satisfied: idna<4,>=2.5 in /usr/local/lib/python3.9/dist-packages (from requests>=2.22.0->pycox) (3.4)\n",
            "Requirement already satisfied: charset-normalizer~=2.0.0 in /usr/local/lib/python3.9/dist-packages (from requests>=2.22.0->pycox) (2.0.12)\n",
            "Requirement already satisfied: certifi>=2017.4.17 in /usr/local/lib/python3.9/dist-packages (from requests>=2.22.0->pycox) (2022.12.7)\n",
            "Requirement already satisfied: joblib>=1.1.1 in /usr/local/lib/python3.9/dist-packages (from scikit-learn>=0.21.2->pycox) (1.2.0)\n",
            "Requirement already satisfied: threadpoolctl>=2.0.0 in /usr/local/lib/python3.9/dist-packages (from scikit-learn>=0.21.2->pycox) (3.1.0)\n",
            "Requirement already satisfied: scipy>=1.3.2 in /usr/local/lib/python3.9/dist-packages (from scikit-learn>=0.21.2->pycox) (1.10.1)\n",
            "Requirement already satisfied: pandas>=0.24.2 in /usr/local/lib/python3.9/dist-packages (from torchtuples>=0.2.0->pycox) (1.5.3)\n",
            "Requirement already satisfied: matplotlib>=3.0.3 in /usr/local/lib/python3.9/dist-packages (from torchtuples>=0.2.0->pycox) (3.7.1)\n",
            "Requirement already satisfied: python-dateutil>=2.7 in /usr/local/lib/python3.9/dist-packages (from matplotlib>=3.0.3->torchtuples>=0.2.0->pycox) (2.8.2)\n",
            "Requirement already satisfied: fonttools>=4.22.0 in /usr/local/lib/python3.9/dist-packages (from matplotlib>=3.0.3->torchtuples>=0.2.0->pycox) (4.39.3)\n",
            "Requirement already satisfied: packaging>=20.0 in /usr/local/lib/python3.9/dist-packages (from matplotlib>=3.0.3->torchtuples>=0.2.0->pycox) (23.1)\n",
            "Requirement already satisfied: kiwisolver>=1.0.1 in /usr/local/lib/python3.9/dist-packages (from matplotlib>=3.0.3->torchtuples>=0.2.0->pycox) (1.4.4)\n",
            "Requirement already satisfied: cycler>=0.10 in /usr/local/lib/python3.9/dist-packages (from matplotlib>=3.0.3->torchtuples>=0.2.0->pycox) (0.11.0)\n",
            "Requirement already satisfied: contourpy>=1.0.1 in /usr/local/lib/python3.9/dist-packages (from matplotlib>=3.0.3->torchtuples>=0.2.0->pycox) (1.0.7)\n",
            "Requirement already satisfied: pyparsing>=2.3.1 in /usr/local/lib/python3.9/dist-packages (from matplotlib>=3.0.3->torchtuples>=0.2.0->pycox) (3.0.9)\n",
            "Requirement already satisfied: importlib-resources>=3.2.0 in /usr/local/lib/python3.9/dist-packages (from matplotlib>=3.0.3->torchtuples>=0.2.0->pycox) (5.12.0)\n",
            "Requirement already satisfied: pillow>=6.2.0 in /usr/local/lib/python3.9/dist-packages (from matplotlib>=3.0.3->torchtuples>=0.2.0->pycox) (8.4.0)\n",
            "Requirement already satisfied: pytz>=2020.1 in /usr/local/lib/python3.9/dist-packages (from pandas>=0.24.2->torchtuples>=0.2.0->pycox) (2022.7.1)\n",
            "Requirement already satisfied: zipp>=3.1.0 in /usr/local/lib/python3.9/dist-packages (from importlib-resources>=3.2.0->matplotlib>=3.0.3->torchtuples>=0.2.0->pycox) (3.15.0)\n",
            "Requirement already satisfied: six>=1.5 in /usr/local/lib/python3.9/dist-packages (from python-dateutil>=2.7->matplotlib>=3.0.3->torchtuples>=0.2.0->pycox) (1.16.0)\n"
          ]
        }
      ]
    },
    {
      "cell_type": "code",
      "source": [
        "import pycox\n",
        "from pycox.models import LogisticHazard\n",
        "# from pycox.models import PMF\n",
        "# from pycox.models import DeepHitSingle\n",
        "from pycox.evaluation import EvalSurv"
      ],
      "metadata": {
        "id": "a7LYcVh8L9F_"
      },
      "execution_count": 39,
      "outputs": []
    },
    {
      "cell_type": "code",
      "source": [
        "np.random.seed(1234)\n",
        "_ = torch.manual_seed(123)"
      ],
      "metadata": {
        "id": "-plp0lfQL9_j"
      },
      "execution_count": 40,
      "outputs": []
    },
    {
      "cell_type": "code",
      "source": [
        "X_full = pd.read_csv('/content/METABRIC_RNA_Mutation.csv', low_memory=False)"
      ],
      "metadata": {
        "id": "cYCKqQyRL-Df"
      },
      "execution_count": 41,
      "outputs": []
    },
    {
      "cell_type": "code",
      "source": [
        "clinical_df = X_full.iloc[:, :31]"
      ],
      "metadata": {
        "id": "KTXoELlfL-IY"
      },
      "execution_count": 42,
      "outputs": []
    },
    {
      "cell_type": "code",
      "source": [
        "clinical_df_inverted = clinical_df.copy()"
      ],
      "metadata": {
        "id": "12mP58DsMbWn"
      },
      "execution_count": 43,
      "outputs": []
    },
    {
      "cell_type": "code",
      "source": [
        "clinical_df_inverted['overall_survival'] = clinical_df_inverted['overall_survival'].replace([0,1],[1,0])"
      ],
      "metadata": {
        "id": "fJgbpyMhMbhU"
      },
      "execution_count": 44,
      "outputs": []
    },
    {
      "cell_type": "code",
      "source": [
        "KM_df = clinical_df_inverted.copy()"
      ],
      "metadata": {
        "id": "2beRwE4IMbs8"
      },
      "execution_count": 45,
      "outputs": []
    },
    {
      "cell_type": "code",
      "source": [
        "KM_df.drop(['patient_id', 'cohort', 'cancer_type', 'oncotree_code', 'death_from_cancer'], axis=1, inplace=True)"
      ],
      "metadata": {
        "id": "1ALGzZUuMivl"
      },
      "execution_count": 46,
      "outputs": []
    },
    {
      "cell_type": "code",
      "source": [
        "cat_columns = [cname for cname in KM_df.columns if\n",
        "                    KM_df[cname].dtype == \"object\"]\n",
        "print(cat_columns)"
      ],
      "metadata": {
        "colab": {
          "base_uri": "https://localhost:8080/"
        },
        "id": "V38olkOoZPmc",
        "outputId": "aa9a24ba-6989-41a8-8a9f-ba527cbf1371"
      },
      "execution_count": 47,
      "outputs": [
        {
          "output_type": "stream",
          "name": "stdout",
          "text": [
            "['type_of_breast_surgery', 'cancer_type_detailed', 'cellularity', 'pam50_+_claudin-low_subtype', 'er_status_measured_by_ihc', 'er_status', 'her2_status_measured_by_snp6', 'her2_status', 'tumor_other_histologic_subtype', 'inferred_menopausal_state', 'integrative_cluster', 'primary_tumor_laterality', 'pr_status', '3-gene_classifier_subtype']\n"
          ]
        }
      ]
    },
    {
      "cell_type": "code",
      "source": [
        "cat_pipeline = Pipeline([\n",
        "    ('oe', OrdinalEncoder()),\n",
        "])"
      ],
      "metadata": {
        "id": "3pYgMFdyZXpf"
      },
      "execution_count": 48,
      "outputs": []
    },
    {
      "cell_type": "code",
      "source": [
        "preprocessor = ColumnTransformer(\n",
        "    transformers=[\n",
        "        ('cat', cat_pipeline, cat_columns)\n",
        "    ], remainder='passthrough')"
      ],
      "metadata": {
        "id": "w9Rt2t6SZA9T"
      },
      "execution_count": 49,
      "outputs": []
    },
    {
      "cell_type": "code",
      "source": [
        "preprocessor.set_output(transform='pandas')\n",
        "X_pandas = preprocessor.fit_transform(KM_df)\n",
        "X_pandas"
      ],
      "metadata": {
        "colab": {
          "base_uri": "https://localhost:8080/",
          "height": 505
        },
        "id": "t8kaabTqZccE",
        "outputId": "64952ffd-af8b-49a8-c73d-f141788ee1d5"
      },
      "execution_count": 50,
      "outputs": [
        {
          "output_type": "execute_result",
          "data": {
            "text/plain": [
              "      cat__type_of_breast_surgery  cat__cancer_type_detailed  \\\n",
              "0                             1.0                        1.0   \n",
              "1                             0.0                        1.0   \n",
              "2                             1.0                        1.0   \n",
              "3                             1.0                        4.0   \n",
              "4                             1.0                        4.0   \n",
              "...                           ...                        ...   \n",
              "1899                          0.0                        2.0   \n",
              "1900                          1.0                        1.0   \n",
              "1901                          1.0                        1.0   \n",
              "1902                          1.0                        1.0   \n",
              "1903                          0.0                        1.0   \n",
              "\n",
              "      cat__cellularity  cat__pam50_+_claudin-low_subtype  \\\n",
              "0                  NaN                               6.0   \n",
              "1                  0.0                               2.0   \n",
              "2                  0.0                               3.0   \n",
              "3                  2.0                               3.0   \n",
              "4                  0.0                               3.0   \n",
              "...                ...                               ...   \n",
              "1899               0.0                               2.0   \n",
              "1900               0.0                               3.0   \n",
              "1901               0.0                               3.0   \n",
              "1902               2.0                               3.0   \n",
              "1903               0.0                               3.0   \n",
              "\n",
              "      cat__er_status_measured_by_ihc  cat__er_status  \\\n",
              "0                                1.0             1.0   \n",
              "1                                1.0             1.0   \n",
              "2                                1.0             1.0   \n",
              "3                                1.0             1.0   \n",
              "4                                1.0             1.0   \n",
              "...                              ...             ...   \n",
              "1899                             1.0             1.0   \n",
              "1900                             1.0             1.0   \n",
              "1901                             1.0             1.0   \n",
              "1902                             1.0             1.0   \n",
              "1903                             1.0             1.0   \n",
              "\n",
              "      cat__her2_status_measured_by_snp6  cat__her2_status  \\\n",
              "0                                   2.0               0.0   \n",
              "1                                   2.0               0.0   \n",
              "2                                   2.0               0.0   \n",
              "3                                   2.0               0.0   \n",
              "4                                   2.0               0.0   \n",
              "...                                 ...               ...   \n",
              "1899                                2.0               0.0   \n",
              "1900                                0.0               1.0   \n",
              "1901                                2.0               0.0   \n",
              "1902                                2.0               0.0   \n",
              "1903                                2.0               0.0   \n",
              "\n",
              "      cat__tumor_other_histologic_subtype  cat__inferred_menopausal_state  \\\n",
              "0                                     0.0                             0.0   \n",
              "1                                     0.0                             1.0   \n",
              "2                                     0.0                             1.0   \n",
              "3                                     4.0                             1.0   \n",
              "4                                     4.0                             0.0   \n",
              "...                                   ...                             ...   \n",
              "1899                                  1.0                             1.0   \n",
              "1900                                  0.0                             1.0   \n",
              "1901                                  0.0                             0.0   \n",
              "1902                                  0.0                             0.0   \n",
              "1903                                  0.0                             0.0   \n",
              "\n",
              "      ...  remainder__neoplasm_histologic_grade  remainder__hormone_therapy  \\\n",
              "0     ...                                   3.0                           1   \n",
              "1     ...                                   3.0                           1   \n",
              "2     ...                                   2.0                           1   \n",
              "3     ...                                   2.0                           1   \n",
              "4     ...                                   3.0                           1   \n",
              "...   ...                                   ...                         ...   \n",
              "1899  ...                                   3.0                           1   \n",
              "1900  ...                                   3.0                           0   \n",
              "1901  ...                                   3.0                           1   \n",
              "1902  ...                                   2.0                           1   \n",
              "1903  ...                                   3.0                           1   \n",
              "\n",
              "      remainder__lymph_nodes_examined_positive  remainder__mutation_count  \\\n",
              "0                                         10.0                        NaN   \n",
              "1                                          0.0                        2.0   \n",
              "2                                          1.0                        2.0   \n",
              "3                                          3.0                        1.0   \n",
              "4                                          8.0                        2.0   \n",
              "...                                        ...                        ...   \n",
              "1899                                       1.0                        4.0   \n",
              "1900                                       1.0                        6.0   \n",
              "1901                                      45.0                        4.0   \n",
              "1902                                      12.0                       15.0   \n",
              "1903                                       1.0                        3.0   \n",
              "\n",
              "      remainder__nottingham_prognostic_index  \\\n",
              "0                                      6.044   \n",
              "1                                      4.020   \n",
              "2                                      4.030   \n",
              "3                                      4.050   \n",
              "4                                      6.080   \n",
              "...                                      ...   \n",
              "1899                                   5.050   \n",
              "1900                                   5.040   \n",
              "1901                                   6.050   \n",
              "1902                                   5.050   \n",
              "1903                                   5.040   \n",
              "\n",
              "      remainder__overall_survival_months  remainder__overall_survival  \\\n",
              "0                             140.500000                            0   \n",
              "1                              84.633333                            0   \n",
              "2                             163.700000                            1   \n",
              "3                             164.933333                            0   \n",
              "4                              41.366667                            1   \n",
              "...                                  ...                          ...   \n",
              "1899                          196.866667                            0   \n",
              "1900                           44.733333                            1   \n",
              "1901                          175.966667                            1   \n",
              "1902                           86.233333                            1   \n",
              "1903                          201.900000                            1   \n",
              "\n",
              "      remainder__radio_therapy  remainder__tumor_size  remainder__tumor_stage  \n",
              "0                            1                   22.0                     2.0  \n",
              "1                            1                   10.0                     1.0  \n",
              "2                            0                   15.0                     2.0  \n",
              "3                            1                   25.0                     2.0  \n",
              "4                            1                   40.0                     2.0  \n",
              "...                        ...                    ...                     ...  \n",
              "1899                         1                   25.0                     NaN  \n",
              "1900                         1                   20.0                     NaN  \n",
              "1901                         1                   25.0                     NaN  \n",
              "1902                         0                   25.0                     NaN  \n",
              "1903                         1                   20.0                     NaN  \n",
              "\n",
              "[1904 rows x 26 columns]"
            ],
            "text/html": [
              "\n",
              "  <div id=\"df-0a4d0842-e9ce-478d-a82a-f162b646e698\">\n",
              "    <div class=\"colab-df-container\">\n",
              "      <div>\n",
              "<style scoped>\n",
              "    .dataframe tbody tr th:only-of-type {\n",
              "        vertical-align: middle;\n",
              "    }\n",
              "\n",
              "    .dataframe tbody tr th {\n",
              "        vertical-align: top;\n",
              "    }\n",
              "\n",
              "    .dataframe thead th {\n",
              "        text-align: right;\n",
              "    }\n",
              "</style>\n",
              "<table border=\"1\" class=\"dataframe\">\n",
              "  <thead>\n",
              "    <tr style=\"text-align: right;\">\n",
              "      <th></th>\n",
              "      <th>cat__type_of_breast_surgery</th>\n",
              "      <th>cat__cancer_type_detailed</th>\n",
              "      <th>cat__cellularity</th>\n",
              "      <th>cat__pam50_+_claudin-low_subtype</th>\n",
              "      <th>cat__er_status_measured_by_ihc</th>\n",
              "      <th>cat__er_status</th>\n",
              "      <th>cat__her2_status_measured_by_snp6</th>\n",
              "      <th>cat__her2_status</th>\n",
              "      <th>cat__tumor_other_histologic_subtype</th>\n",
              "      <th>cat__inferred_menopausal_state</th>\n",
              "      <th>...</th>\n",
              "      <th>remainder__neoplasm_histologic_grade</th>\n",
              "      <th>remainder__hormone_therapy</th>\n",
              "      <th>remainder__lymph_nodes_examined_positive</th>\n",
              "      <th>remainder__mutation_count</th>\n",
              "      <th>remainder__nottingham_prognostic_index</th>\n",
              "      <th>remainder__overall_survival_months</th>\n",
              "      <th>remainder__overall_survival</th>\n",
              "      <th>remainder__radio_therapy</th>\n",
              "      <th>remainder__tumor_size</th>\n",
              "      <th>remainder__tumor_stage</th>\n",
              "    </tr>\n",
              "  </thead>\n",
              "  <tbody>\n",
              "    <tr>\n",
              "      <th>0</th>\n",
              "      <td>1.0</td>\n",
              "      <td>1.0</td>\n",
              "      <td>NaN</td>\n",
              "      <td>6.0</td>\n",
              "      <td>1.0</td>\n",
              "      <td>1.0</td>\n",
              "      <td>2.0</td>\n",
              "      <td>0.0</td>\n",
              "      <td>0.0</td>\n",
              "      <td>0.0</td>\n",
              "      <td>...</td>\n",
              "      <td>3.0</td>\n",
              "      <td>1</td>\n",
              "      <td>10.0</td>\n",
              "      <td>NaN</td>\n",
              "      <td>6.044</td>\n",
              "      <td>140.500000</td>\n",
              "      <td>0</td>\n",
              "      <td>1</td>\n",
              "      <td>22.0</td>\n",
              "      <td>2.0</td>\n",
              "    </tr>\n",
              "    <tr>\n",
              "      <th>1</th>\n",
              "      <td>0.0</td>\n",
              "      <td>1.0</td>\n",
              "      <td>0.0</td>\n",
              "      <td>2.0</td>\n",
              "      <td>1.0</td>\n",
              "      <td>1.0</td>\n",
              "      <td>2.0</td>\n",
              "      <td>0.0</td>\n",
              "      <td>0.0</td>\n",
              "      <td>1.0</td>\n",
              "      <td>...</td>\n",
              "      <td>3.0</td>\n",
              "      <td>1</td>\n",
              "      <td>0.0</td>\n",
              "      <td>2.0</td>\n",
              "      <td>4.020</td>\n",
              "      <td>84.633333</td>\n",
              "      <td>0</td>\n",
              "      <td>1</td>\n",
              "      <td>10.0</td>\n",
              "      <td>1.0</td>\n",
              "    </tr>\n",
              "    <tr>\n",
              "      <th>2</th>\n",
              "      <td>1.0</td>\n",
              "      <td>1.0</td>\n",
              "      <td>0.0</td>\n",
              "      <td>3.0</td>\n",
              "      <td>1.0</td>\n",
              "      <td>1.0</td>\n",
              "      <td>2.0</td>\n",
              "      <td>0.0</td>\n",
              "      <td>0.0</td>\n",
              "      <td>1.0</td>\n",
              "      <td>...</td>\n",
              "      <td>2.0</td>\n",
              "      <td>1</td>\n",
              "      <td>1.0</td>\n",
              "      <td>2.0</td>\n",
              "      <td>4.030</td>\n",
              "      <td>163.700000</td>\n",
              "      <td>1</td>\n",
              "      <td>0</td>\n",
              "      <td>15.0</td>\n",
              "      <td>2.0</td>\n",
              "    </tr>\n",
              "    <tr>\n",
              "      <th>3</th>\n",
              "      <td>1.0</td>\n",
              "      <td>4.0</td>\n",
              "      <td>2.0</td>\n",
              "      <td>3.0</td>\n",
              "      <td>1.0</td>\n",
              "      <td>1.0</td>\n",
              "      <td>2.0</td>\n",
              "      <td>0.0</td>\n",
              "      <td>4.0</td>\n",
              "      <td>1.0</td>\n",
              "      <td>...</td>\n",
              "      <td>2.0</td>\n",
              "      <td>1</td>\n",
              "      <td>3.0</td>\n",
              "      <td>1.0</td>\n",
              "      <td>4.050</td>\n",
              "      <td>164.933333</td>\n",
              "      <td>0</td>\n",
              "      <td>1</td>\n",
              "      <td>25.0</td>\n",
              "      <td>2.0</td>\n",
              "    </tr>\n",
              "    <tr>\n",
              "      <th>4</th>\n",
              "      <td>1.0</td>\n",
              "      <td>4.0</td>\n",
              "      <td>0.0</td>\n",
              "      <td>3.0</td>\n",
              "      <td>1.0</td>\n",
              "      <td>1.0</td>\n",
              "      <td>2.0</td>\n",
              "      <td>0.0</td>\n",
              "      <td>4.0</td>\n",
              "      <td>0.0</td>\n",
              "      <td>...</td>\n",
              "      <td>3.0</td>\n",
              "      <td>1</td>\n",
              "      <td>8.0</td>\n",
              "      <td>2.0</td>\n",
              "      <td>6.080</td>\n",
              "      <td>41.366667</td>\n",
              "      <td>1</td>\n",
              "      <td>1</td>\n",
              "      <td>40.0</td>\n",
              "      <td>2.0</td>\n",
              "    </tr>\n",
              "    <tr>\n",
              "      <th>...</th>\n",
              "      <td>...</td>\n",
              "      <td>...</td>\n",
              "      <td>...</td>\n",
              "      <td>...</td>\n",
              "      <td>...</td>\n",
              "      <td>...</td>\n",
              "      <td>...</td>\n",
              "      <td>...</td>\n",
              "      <td>...</td>\n",
              "      <td>...</td>\n",
              "      <td>...</td>\n",
              "      <td>...</td>\n",
              "      <td>...</td>\n",
              "      <td>...</td>\n",
              "      <td>...</td>\n",
              "      <td>...</td>\n",
              "      <td>...</td>\n",
              "      <td>...</td>\n",
              "      <td>...</td>\n",
              "      <td>...</td>\n",
              "      <td>...</td>\n",
              "    </tr>\n",
              "    <tr>\n",
              "      <th>1899</th>\n",
              "      <td>0.0</td>\n",
              "      <td>2.0</td>\n",
              "      <td>0.0</td>\n",
              "      <td>2.0</td>\n",
              "      <td>1.0</td>\n",
              "      <td>1.0</td>\n",
              "      <td>2.0</td>\n",
              "      <td>0.0</td>\n",
              "      <td>1.0</td>\n",
              "      <td>1.0</td>\n",
              "      <td>...</td>\n",
              "      <td>3.0</td>\n",
              "      <td>1</td>\n",
              "      <td>1.0</td>\n",
              "      <td>4.0</td>\n",
              "      <td>5.050</td>\n",
              "      <td>196.866667</td>\n",
              "      <td>0</td>\n",
              "      <td>1</td>\n",
              "      <td>25.0</td>\n",
              "      <td>NaN</td>\n",
              "    </tr>\n",
              "    <tr>\n",
              "      <th>1900</th>\n",
              "      <td>1.0</td>\n",
              "      <td>1.0</td>\n",
              "      <td>0.0</td>\n",
              "      <td>3.0</td>\n",
              "      <td>1.0</td>\n",
              "      <td>1.0</td>\n",
              "      <td>0.0</td>\n",
              "      <td>1.0</td>\n",
              "      <td>0.0</td>\n",
              "      <td>1.0</td>\n",
              "      <td>...</td>\n",
              "      <td>3.0</td>\n",
              "      <td>0</td>\n",
              "      <td>1.0</td>\n",
              "      <td>6.0</td>\n",
              "      <td>5.040</td>\n",
              "      <td>44.733333</td>\n",
              "      <td>1</td>\n",
              "      <td>1</td>\n",
              "      <td>20.0</td>\n",
              "      <td>NaN</td>\n",
              "    </tr>\n",
              "    <tr>\n",
              "      <th>1901</th>\n",
              "      <td>1.0</td>\n",
              "      <td>1.0</td>\n",
              "      <td>0.0</td>\n",
              "      <td>3.0</td>\n",
              "      <td>1.0</td>\n",
              "      <td>1.0</td>\n",
              "      <td>2.0</td>\n",
              "      <td>0.0</td>\n",
              "      <td>0.0</td>\n",
              "      <td>0.0</td>\n",
              "      <td>...</td>\n",
              "      <td>3.0</td>\n",
              "      <td>1</td>\n",
              "      <td>45.0</td>\n",
              "      <td>4.0</td>\n",
              "      <td>6.050</td>\n",
              "      <td>175.966667</td>\n",
              "      <td>1</td>\n",
              "      <td>1</td>\n",
              "      <td>25.0</td>\n",
              "      <td>NaN</td>\n",
              "    </tr>\n",
              "    <tr>\n",
              "      <th>1902</th>\n",
              "      <td>1.0</td>\n",
              "      <td>1.0</td>\n",
              "      <td>2.0</td>\n",
              "      <td>3.0</td>\n",
              "      <td>1.0</td>\n",
              "      <td>1.0</td>\n",
              "      <td>2.0</td>\n",
              "      <td>0.0</td>\n",
              "      <td>0.0</td>\n",
              "      <td>0.0</td>\n",
              "      <td>...</td>\n",
              "      <td>2.0</td>\n",
              "      <td>1</td>\n",
              "      <td>12.0</td>\n",
              "      <td>15.0</td>\n",
              "      <td>5.050</td>\n",
              "      <td>86.233333</td>\n",
              "      <td>1</td>\n",
              "      <td>0</td>\n",
              "      <td>25.0</td>\n",
              "      <td>NaN</td>\n",
              "    </tr>\n",
              "    <tr>\n",
              "      <th>1903</th>\n",
              "      <td>0.0</td>\n",
              "      <td>1.0</td>\n",
              "      <td>0.0</td>\n",
              "      <td>3.0</td>\n",
              "      <td>1.0</td>\n",
              "      <td>1.0</td>\n",
              "      <td>2.0</td>\n",
              "      <td>0.0</td>\n",
              "      <td>0.0</td>\n",
              "      <td>0.0</td>\n",
              "      <td>...</td>\n",
              "      <td>3.0</td>\n",
              "      <td>1</td>\n",
              "      <td>1.0</td>\n",
              "      <td>3.0</td>\n",
              "      <td>5.040</td>\n",
              "      <td>201.900000</td>\n",
              "      <td>1</td>\n",
              "      <td>1</td>\n",
              "      <td>20.0</td>\n",
              "      <td>NaN</td>\n",
              "    </tr>\n",
              "  </tbody>\n",
              "</table>\n",
              "<p>1904 rows × 26 columns</p>\n",
              "</div>\n",
              "      <button class=\"colab-df-convert\" onclick=\"convertToInteractive('df-0a4d0842-e9ce-478d-a82a-f162b646e698')\"\n",
              "              title=\"Convert this dataframe to an interactive table.\"\n",
              "              style=\"display:none;\">\n",
              "        \n",
              "  <svg xmlns=\"http://www.w3.org/2000/svg\" height=\"24px\"viewBox=\"0 0 24 24\"\n",
              "       width=\"24px\">\n",
              "    <path d=\"M0 0h24v24H0V0z\" fill=\"none\"/>\n",
              "    <path d=\"M18.56 5.44l.94 2.06.94-2.06 2.06-.94-2.06-.94-.94-2.06-.94 2.06-2.06.94zm-11 1L8.5 8.5l.94-2.06 2.06-.94-2.06-.94L8.5 2.5l-.94 2.06-2.06.94zm10 10l.94 2.06.94-2.06 2.06-.94-2.06-.94-.94-2.06-.94 2.06-2.06.94z\"/><path d=\"M17.41 7.96l-1.37-1.37c-.4-.4-.92-.59-1.43-.59-.52 0-1.04.2-1.43.59L10.3 9.45l-7.72 7.72c-.78.78-.78 2.05 0 2.83L4 21.41c.39.39.9.59 1.41.59.51 0 1.02-.2 1.41-.59l7.78-7.78 2.81-2.81c.8-.78.8-2.07 0-2.86zM5.41 20L4 18.59l7.72-7.72 1.47 1.35L5.41 20z\"/>\n",
              "  </svg>\n",
              "      </button>\n",
              "      \n",
              "  <style>\n",
              "    .colab-df-container {\n",
              "      display:flex;\n",
              "      flex-wrap:wrap;\n",
              "      gap: 12px;\n",
              "    }\n",
              "\n",
              "    .colab-df-convert {\n",
              "      background-color: #E8F0FE;\n",
              "      border: none;\n",
              "      border-radius: 50%;\n",
              "      cursor: pointer;\n",
              "      display: none;\n",
              "      fill: #1967D2;\n",
              "      height: 32px;\n",
              "      padding: 0 0 0 0;\n",
              "      width: 32px;\n",
              "    }\n",
              "\n",
              "    .colab-df-convert:hover {\n",
              "      background-color: #E2EBFA;\n",
              "      box-shadow: 0px 1px 2px rgba(60, 64, 67, 0.3), 0px 1px 3px 1px rgba(60, 64, 67, 0.15);\n",
              "      fill: #174EA6;\n",
              "    }\n",
              "\n",
              "    [theme=dark] .colab-df-convert {\n",
              "      background-color: #3B4455;\n",
              "      fill: #D2E3FC;\n",
              "    }\n",
              "\n",
              "    [theme=dark] .colab-df-convert:hover {\n",
              "      background-color: #434B5C;\n",
              "      box-shadow: 0px 1px 3px 1px rgba(0, 0, 0, 0.15);\n",
              "      filter: drop-shadow(0px 1px 2px rgba(0, 0, 0, 0.3));\n",
              "      fill: #FFFFFF;\n",
              "    }\n",
              "  </style>\n",
              "\n",
              "      <script>\n",
              "        const buttonEl =\n",
              "          document.querySelector('#df-0a4d0842-e9ce-478d-a82a-f162b646e698 button.colab-df-convert');\n",
              "        buttonEl.style.display =\n",
              "          google.colab.kernel.accessAllowed ? 'block' : 'none';\n",
              "\n",
              "        async function convertToInteractive(key) {\n",
              "          const element = document.querySelector('#df-0a4d0842-e9ce-478d-a82a-f162b646e698');\n",
              "          const dataTable =\n",
              "            await google.colab.kernel.invokeFunction('convertToInteractive',\n",
              "                                                     [key], {});\n",
              "          if (!dataTable) return;\n",
              "\n",
              "          const docLinkHtml = 'Like what you see? Visit the ' +\n",
              "            '<a target=\"_blank\" href=https://colab.research.google.com/notebooks/data_table.ipynb>data table notebook</a>'\n",
              "            + ' to learn more about interactive tables.';\n",
              "          element.innerHTML = '';\n",
              "          dataTable['output_type'] = 'display_data';\n",
              "          await google.colab.output.renderOutput(dataTable, element);\n",
              "          const docLink = document.createElement('div');\n",
              "          docLink.innerHTML = docLinkHtml;\n",
              "          element.appendChild(docLink);\n",
              "        }\n",
              "      </script>\n",
              "    </div>\n",
              "  </div>\n",
              "  "
            ]
          },
          "metadata": {},
          "execution_count": 50
        }
      ]
    },
    {
      "cell_type": "code",
      "source": [
        "df_train = X_pandas\n",
        "df_test = df_train.sample(frac=0.2)\n",
        "df_train = df_train.drop(df_test.index)\n",
        "df_val = df_train.sample(frac=0.2)\n",
        "df_train = df_train.drop(df_val.index)"
      ],
      "metadata": {
        "id": "FiDpU3IfMi45"
      },
      "execution_count": 51,
      "outputs": []
    },
    {
      "cell_type": "code",
      "source": [
        "X_pandas = X_pandas.fillna(X_pandas.median())"
      ],
      "metadata": {
        "id": "iuL67MdBZ-vr"
      },
      "execution_count": 52,
      "outputs": []
    },
    {
      "cell_type": "code",
      "source": [
        "num_columns = [cname for cname in X_pandas.columns if \n",
        "                X_pandas[cname].dtype in ['int64', 'float64']]\n",
        "print(num_columns)"
      ],
      "metadata": {
        "colab": {
          "base_uri": "https://localhost:8080/"
        },
        "id": "rd1N42_gMjDO",
        "outputId": "231f3f49-341c-47ed-c5cb-f8a7ffaa9ef5"
      },
      "execution_count": 53,
      "outputs": [
        {
          "output_type": "stream",
          "name": "stdout",
          "text": [
            "['cat__type_of_breast_surgery', 'cat__cancer_type_detailed', 'cat__cellularity', 'cat__pam50_+_claudin-low_subtype', 'cat__er_status_measured_by_ihc', 'cat__er_status', 'cat__her2_status_measured_by_snp6', 'cat__her2_status', 'cat__tumor_other_histologic_subtype', 'cat__inferred_menopausal_state', 'cat__integrative_cluster', 'cat__primary_tumor_laterality', 'cat__pr_status', 'cat__3-gene_classifier_subtype', 'remainder__age_at_diagnosis', 'remainder__chemotherapy', 'remainder__neoplasm_histologic_grade', 'remainder__hormone_therapy', 'remainder__lymph_nodes_examined_positive', 'remainder__mutation_count', 'remainder__nottingham_prognostic_index', 'remainder__overall_survival_months', 'remainder__overall_survival', 'remainder__radio_therapy', 'remainder__tumor_size', 'remainder__tumor_stage']\n"
          ]
        }
      ]
    },
    {
      "cell_type": "code",
      "source": [
        "cols_standardize = ['cat__cancer_type_detailed', 'cat__integrative_cluster', 'cat__primary_tumor_laterality', 'cat__pr_status', 'cat__3-gene_classifier_subtype', 'cat__cellularity', 'cat__her2_status_measured_by_snp6', 'cat__her2_status', 'cat__tumor_other_histologic_subtype','cat__pam50_+_claudin-low_subtype','remainder__age_at_diagnosis', 'remainder__neoplasm_histologic_grade', 'remainder__lymph_nodes_examined_positive', 'remainder__mutation_count', 'remainder__nottingham_prognostic_index', 'remainder__tumor_size', 'remainder__tumor_stage']\n",
        "cols_leave = ['remainder__chemotherapy', 'remainder__hormone_therapy', 'remainder__overall_survival_months', 'remainder__overall_survival', 'remainder__radio_therapy']\n",
        "standardize = [([col], StandardScaler()) for col in cols_standardize]\n",
        "leave = [(col, None) for col in cols_leave]\n",
        "x_mapper = DataFrameMapper(standardize + leave)"
      ],
      "metadata": {
        "id": "Wj85GWaYMxR5"
      },
      "execution_count": 79,
      "outputs": []
    },
    {
      "cell_type": "code",
      "source": [
        "df_train = X_pandas\n",
        "df_test = df_train.sample(frac=0.2)\n",
        "df_train = df_train.drop(df_test.index)\n",
        "df_val = df_train.sample(frac=0.2)\n",
        "df_train = df_train.drop(df_val.index)"
      ],
      "metadata": {
        "id": "8jqdE1Hla9c_"
      },
      "execution_count": 80,
      "outputs": []
    },
    {
      "cell_type": "code",
      "source": [
        "x_train = x_mapper.fit_transform(df_train).astype('float32')\n",
        "x_val = x_mapper.transform(df_val).astype('float32')\n",
        "x_test = x_mapper.transform(df_test).astype('float32')"
      ],
      "metadata": {
        "id": "900eSnJPM3Nk"
      },
      "execution_count": 81,
      "outputs": []
    },
    {
      "cell_type": "code",
      "source": [
        "num_durations = 10\n",
        "\n",
        "labtrans = LogisticHazard.label_transform(num_durations)\n",
        "# labtrans = PMF.label_transform(num_durations)\n",
        "# labtrans = DeepHitSingle.label_transform(num_durations)\n",
        "\n",
        "get_target = lambda X_pandas: (X_pandas['remainder__overall_survival_months'].values, X_pandas['remainder__overall_survival'].values)\n",
        "y_train = labtrans.fit_transform(*get_target(df_train))\n",
        "y_val = labtrans.transform(*get_target(df_val))\n",
        "\n",
        "train = (x_train, y_train)\n",
        "val = (x_val, y_val)\n",
        "\n",
        "# We don't need to transform the test labels\n",
        "months_test, events_test = get_target(df_test)"
      ],
      "metadata": {
        "id": "dEHukiqsM3Xm"
      },
      "execution_count": 82,
      "outputs": []
    },
    {
      "cell_type": "code",
      "source": [
        "type(labtrans)"
      ],
      "metadata": {
        "colab": {
          "base_uri": "https://localhost:8080/"
        },
        "id": "xHZq3eluM3hg",
        "outputId": "baa05977-6ea1-42e5-9bbb-65666e8016e9"
      },
      "execution_count": 83,
      "outputs": [
        {
          "output_type": "execute_result",
          "data": {
            "text/plain": [
              "pycox.preprocessing.label_transforms.LabTransDiscreteTime"
            ]
          },
          "metadata": {},
          "execution_count": 83
        }
      ]
    },
    {
      "cell_type": "code",
      "source": [
        "labtrans.cuts"
      ],
      "metadata": {
        "colab": {
          "base_uri": "https://localhost:8080/"
        },
        "id": "jylGsC07M3r1",
        "outputId": "c9c3c258-f5dd-43a9-9e26-d10b8e8c4019"
      },
      "execution_count": 84,
      "outputs": [
        {
          "output_type": "execute_result",
          "data": {
            "text/plain": [
              "array([  0.        ,  39.46666667,  78.93333333, 118.4       ,\n",
              "       157.86666667, 197.33333333, 236.8       , 276.26666667,\n",
              "       315.73333333, 355.2       ])"
            ]
          },
          "metadata": {},
          "execution_count": 84
        }
      ]
    },
    {
      "cell_type": "code",
      "source": [
        "labtrans.cuts[y_train[0]]"
      ],
      "metadata": {
        "colab": {
          "base_uri": "https://localhost:8080/"
        },
        "id": "pGA7HYwGM32y",
        "outputId": "0cecaabd-af4f-481d-c7f0-8eb7816c4942"
      },
      "execution_count": 85,
      "outputs": [
        {
          "output_type": "execute_result",
          "data": {
            "text/plain": [
              "array([118.4       , 197.33333333, 118.4       , ..., 118.4       ,\n",
              "       157.86666667, 197.33333333])"
            ]
          },
          "metadata": {},
          "execution_count": 85
        }
      ]
    },
    {
      "cell_type": "markdown",
      "source": [
        "#Нейронная сеть 2 скрытых слоя по 32 каждый, ReLU активац ф-я, and out_features output nodes. We also have batch normalization and dropout between the layers."
      ],
      "metadata": {
        "id": "D23BJBRoNJK7"
      }
    },
    {
      "cell_type": "code",
      "source": [
        "in_features = x_train.shape[1]\n",
        "num_nodes = [32, 32]\n",
        "out_features = labtrans.out_features\n",
        "batch_norm = True\n",
        "dropout = 0.1\n",
        "\n",
        "net = tt.practical.MLPVanilla(in_features, num_nodes, out_features, batch_norm, dropout)"
      ],
      "metadata": {
        "id": "x1byIlRdMxdI"
      },
      "execution_count": 86,
      "outputs": []
    },
    {
      "cell_type": "code",
      "source": [
        "model = LogisticHazard(net, tt.optim.Adam(0.01), duration_index=labtrans.cuts)\n",
        "# model = PMF(net, tt.optim.Adam(0.01), duration_index=labtrans.cuts)\n",
        "# model = DeepHitSingle(net, tt.optim.Adam(0.01), duration_index=labtrans.cuts)"
      ],
      "metadata": {
        "id": "UdV7yrWDNRQb"
      },
      "execution_count": 87,
      "outputs": []
    },
    {
      "cell_type": "code",
      "source": [
        "batch_size = 256\n",
        "epochs = 100\n",
        "callbacks = [tt.cb.EarlyStopping()]"
      ],
      "metadata": {
        "id": "YG2H4tKkNTqx"
      },
      "execution_count": 88,
      "outputs": []
    },
    {
      "cell_type": "code",
      "source": [
        "log = model.fit(x_train, y_train, batch_size, epochs, callbacks, val_data=val)"
      ],
      "metadata": {
        "colab": {
          "base_uri": "https://localhost:8080/"
        },
        "id": "4x9yRFWfNWJd",
        "outputId": "029b459d-ac61-481f-b8a0-dd2848a8f79d"
      },
      "execution_count": 89,
      "outputs": [
        {
          "output_type": "stream",
          "name": "stdout",
          "text": [
            "0:\t[0s / 0s],\t\ttrain_loss: 2.5072,\tval_loss: 1.8735\n",
            "1:\t[0s / 0s],\t\ttrain_loss: 1.8469,\tval_loss: 1.9527\n",
            "2:\t[0s / 0s],\t\ttrain_loss: 1.4869,\tval_loss: 1.9838\n",
            "3:\t[0s / 0s],\t\ttrain_loss: 1.2253,\tval_loss: 1.5884\n",
            "4:\t[0s / 0s],\t\ttrain_loss: 0.9504,\tval_loss: 1.1226\n",
            "5:\t[0s / 0s],\t\ttrain_loss: 0.7116,\tval_loss: 0.7598\n",
            "6:\t[0s / 0s],\t\ttrain_loss: 0.5757,\tval_loss: 0.5312\n",
            "7:\t[0s / 0s],\t\ttrain_loss: 0.4770,\tval_loss: 0.4476\n",
            "8:\t[0s / 0s],\t\ttrain_loss: 0.4182,\tval_loss: 0.4103\n",
            "9:\t[0s / 0s],\t\ttrain_loss: 0.3556,\tval_loss: 0.3694\n",
            "10:\t[0s / 0s],\t\ttrain_loss: 0.3323,\tval_loss: 0.3943\n",
            "11:\t[0s / 0s],\t\ttrain_loss: 0.2926,\tval_loss: 0.5158\n",
            "12:\t[0s / 0s],\t\ttrain_loss: 0.3075,\tval_loss: 0.5536\n",
            "13:\t[0s / 0s],\t\ttrain_loss: 0.2835,\tval_loss: 0.5349\n",
            "14:\t[0s / 0s],\t\ttrain_loss: 0.2578,\tval_loss: 0.7980\n",
            "15:\t[0s / 0s],\t\ttrain_loss: 0.2744,\tval_loss: 0.3342\n",
            "16:\t[0s / 0s],\t\ttrain_loss: 0.2698,\tval_loss: 0.3186\n",
            "17:\t[0s / 0s],\t\ttrain_loss: 0.2707,\tval_loss: 0.2112\n",
            "18:\t[0s / 0s],\t\ttrain_loss: 0.2347,\tval_loss: 0.2406\n",
            "19:\t[0s / 0s],\t\ttrain_loss: 0.2281,\tval_loss: 0.2768\n",
            "20:\t[0s / 0s],\t\ttrain_loss: 0.2258,\tval_loss: 0.4426\n",
            "21:\t[0s / 0s],\t\ttrain_loss: 0.2082,\tval_loss: 0.2346\n",
            "22:\t[0s / 0s],\t\ttrain_loss: 0.2227,\tval_loss: 0.4179\n",
            "23:\t[0s / 0s],\t\ttrain_loss: 0.2010,\tval_loss: 0.2991\n",
            "24:\t[0s / 0s],\t\ttrain_loss: 0.2003,\tval_loss: 0.3098\n",
            "25:\t[0s / 0s],\t\ttrain_loss: 0.1888,\tval_loss: 0.1816\n",
            "26:\t[0s / 0s],\t\ttrain_loss: 0.1933,\tval_loss: 0.2916\n",
            "27:\t[0s / 0s],\t\ttrain_loss: 0.1682,\tval_loss: 0.1654\n",
            "28:\t[0s / 0s],\t\ttrain_loss: 0.1895,\tval_loss: 0.3314\n",
            "29:\t[0s / 0s],\t\ttrain_loss: 0.2399,\tval_loss: 0.1618\n",
            "30:\t[0s / 0s],\t\ttrain_loss: 0.2078,\tval_loss: 0.2830\n",
            "31:\t[0s / 0s],\t\ttrain_loss: 0.1826,\tval_loss: 0.1765\n",
            "32:\t[0s / 0s],\t\ttrain_loss: 0.1871,\tval_loss: 0.1720\n",
            "33:\t[0s / 0s],\t\ttrain_loss: 0.2329,\tval_loss: 0.2158\n",
            "34:\t[0s / 0s],\t\ttrain_loss: 0.1790,\tval_loss: 0.3076\n",
            "35:\t[0s / 0s],\t\ttrain_loss: 0.1824,\tval_loss: 0.3128\n",
            "36:\t[0s / 0s],\t\ttrain_loss: 0.1956,\tval_loss: 0.1982\n",
            "37:\t[0s / 0s],\t\ttrain_loss: 0.1637,\tval_loss: 0.2162\n",
            "38:\t[0s / 0s],\t\ttrain_loss: 0.1866,\tval_loss: 0.1558\n",
            "39:\t[0s / 0s],\t\ttrain_loss: 0.1735,\tval_loss: 0.1606\n",
            "40:\t[0s / 0s],\t\ttrain_loss: 0.1853,\tval_loss: 0.3132\n",
            "41:\t[0s / 0s],\t\ttrain_loss: 0.1763,\tval_loss: 0.2577\n",
            "42:\t[0s / 0s],\t\ttrain_loss: 0.1909,\tval_loss: 0.2081\n",
            "43:\t[0s / 0s],\t\ttrain_loss: 0.1627,\tval_loss: 0.1736\n",
            "44:\t[0s / 0s],\t\ttrain_loss: 0.1509,\tval_loss: 0.2015\n",
            "45:\t[0s / 0s],\t\ttrain_loss: 0.1797,\tval_loss: 0.2200\n",
            "46:\t[0s / 1s],\t\ttrain_loss: 0.1729,\tval_loss: 0.2529\n",
            "47:\t[0s / 1s],\t\ttrain_loss: 0.1710,\tval_loss: 0.1988\n",
            "48:\t[0s / 1s],\t\ttrain_loss: 0.1911,\tval_loss: 0.1762\n"
          ]
        }
      ]
    },
    {
      "cell_type": "code",
      "source": [
        "_ = log.plot()"
      ],
      "metadata": {
        "colab": {
          "base_uri": "https://localhost:8080/",
          "height": 430
        },
        "id": "xIpLpNNaNhxB",
        "outputId": "386e99f9-2a52-4856-a926-53188804adc5"
      },
      "execution_count": 72,
      "outputs": [
        {
          "output_type": "display_data",
          "data": {
            "text/plain": [
              "<Figure size 640x480 with 1 Axes>"
            ],
            "image/png": "[encoded data removed]"
          },
          "metadata": {}
        }
      ]
    },
    {
      "cell_type": "code",
      "source": [
        "log.to_pandas().val_loss.min()"
      ],
      "metadata": {
        "colab": {
          "base_uri": "https://localhost:8080/"
        },
        "id": "wy3CR-J2dE1h",
        "outputId": "487b3780-d135-4d87-9978-4b05abd08c8a"
      },
      "execution_count": 90,
      "outputs": [
        {
          "output_type": "execute_result",
          "data": {
            "text/plain": [
              "0.15583811700344086"
            ]
          },
          "metadata": {},
          "execution_count": 90
        }
      ]
    },
    {
      "cell_type": "code",
      "source": [
        "model.score_in_batches(val)"
      ],
      "metadata": {
        "colab": {
          "base_uri": "https://localhost:8080/"
        },
        "id": "m_D2CJQ-dFHV",
        "outputId": "b4a64136-c22f-40ed-e478-2e3d0139bd01"
      },
      "execution_count": 91,
      "outputs": [
        {
          "output_type": "execute_result",
          "data": {
            "text/plain": [
              "{'loss': 0.15583811700344086}"
            ]
          },
          "metadata": {},
          "execution_count": 91
        }
      ]
    },
    {
      "cell_type": "code",
      "source": [
        "#предсказываем\n",
        "surv = model.predict_surv_df(x_test)"
      ],
      "metadata": {
        "id": "RxYQxq4BdQUT"
      },
      "execution_count": 92,
      "outputs": []
    },
    {
      "cell_type": "code",
      "source": [
        "surv.iloc[:, :10].plot(drawstyle='steps-post')\n",
        "plt.ylabel('S(t | x)')\n",
        "_ = plt.xlabel('Time')"
      ],
      "metadata": {
        "colab": {
          "base_uri": "https://localhost:8080/",
          "height": 449
        },
        "id": "vSonMwF3dZa0",
        "outputId": "55ba042f-e8a3-4838-fffd-07e0d863ef13"
      },
      "execution_count": 105,
      "outputs": [
        {
          "output_type": "display_data",
          "data": {
            "text/plain": [
              "<Figure size 640x480 with 1 Axes>"
            ],
            "image/png": "[encoded data removed]"
          },
          "metadata": {}
        }
      ]
    },
    {
      "cell_type": "code",
      "source": [
        "surv = model.interpolate(10).predict_surv_df(x_test)"
      ],
      "metadata": {
        "id": "IIHZorg8dq4B"
      },
      "execution_count": 106,
      "outputs": []
    },
    {
      "cell_type": "code",
      "source": [
        "surv.iloc[:, :10].plot(drawstyle='steps-post')\n",
        "plt.ylabel('S(t | x)')\n",
        "_ = plt.xlabel('Time')"
      ],
      "metadata": {
        "colab": {
          "base_uri": "https://localhost:8080/",
          "height": 449
        },
        "id": "_AABb22cdsac",
        "outputId": "08098178-33cb-423a-ab23-224ec1f36edc"
      },
      "execution_count": 107,
      "outputs": [
        {
          "output_type": "display_data",
          "data": {
            "text/plain": [
              "<Figure size 640x480 with 1 Axes>"
            ],
            "image/png": "[encoded data removed]"
          },
          "metadata": {}
        }
      ]
    },
    {
      "cell_type": "code",
      "source": [
        "ev = EvalSurv(surv, months_test, events_test, censor_surv='km')"
      ],
      "metadata": {
        "colab": {
          "base_uri": "https://localhost:8080/"
        },
        "id": "lZjRzJGje4q4",
        "outputId": "4b54ce2a-2cc5-4197-e87a-7b1b112fec4a"
      },
      "execution_count": 108,
      "outputs": [
        {
          "output_type": "stream",
          "name": "stderr",
          "text": [
            "/usr/local/lib/python3.9/dist-packages/pycox/evaluation/eval_surv.py:36: FutureWarning: is_monotonic is deprecated and will be removed in a future version. Use is_monotonic_increasing instead.\n",
            "  assert pd.Series(self.index_surv).is_monotonic\n"
          ]
        }
      ]
    },
    {
      "cell_type": "code",
      "source": [
        "ev.concordance_td('antolini')"
      ],
      "metadata": {
        "colab": {
          "base_uri": "https://localhost:8080/"
        },
        "id": "W5JqQYOMe434",
        "outputId": "c68ef274-1c58-4060-85da-fc7baeac5557"
      },
      "execution_count": 109,
      "outputs": [
        {
          "output_type": "execute_result",
          "data": {
            "text/plain": [
              "0.9886932488065096"
            ]
          },
          "metadata": {},
          "execution_count": 109
        }
      ]
    },
    {
      "cell_type": "code",
      "source": [
        "time_grid = np.linspace(months_test.min(), months_test.max(), 100)\n",
        "ev.brier_score(time_grid).plot()\n",
        "plt.ylabel('Brier score')\n",
        "_ = plt.xlabel('Time')"
      ],
      "metadata": {
        "colab": {
          "base_uri": "https://localhost:8080/",
          "height": 449
        },
        "id": "7WSEuHOAe49z",
        "outputId": "a1501f1b-7757-48e0-ec1e-a72dbdbd1a71"
      },
      "execution_count": 110,
      "outputs": [
        {
          "output_type": "display_data",
          "data": {
            "text/plain": [
              "<Figure size 640x480 with 1 Axes>"
            ],
            "image/png": "[encoded data removed]"
          },
          "metadata": {}
        }
      ]
    },
    {
      "cell_type": "code",
      "source": [
        "ev.nbll(time_grid).plot()\n",
        "plt.ylabel('NBLL')\n",
        "_ = plt.xlabel('Time')"
      ],
      "metadata": {
        "colab": {
          "base_uri": "https://localhost:8080/",
          "height": 449
        },
        "id": "G9zcdMWie5EU",
        "outputId": "8132bb2b-3cb9-4a12-f4a3-137127c62b7d"
      },
      "execution_count": 111,
      "outputs": [
        {
          "output_type": "display_data",
          "data": {
            "text/plain": [
              "<Figure size 640x480 with 1 Axes>"
            ],
            "image/png": "[encoded data removed]"
          },
          "metadata": {}
        }
      ]
    },
    {
      "cell_type": "code",
      "source": [
        "ev.integrated_brier_score(time_grid) "
      ],
      "metadata": {
        "colab": {
          "base_uri": "https://localhost:8080/"
        },
        "id": "vnosR7SJf7XX",
        "outputId": "8e23dc5f-d7cf-4283-dcc6-502693cc7827"
      },
      "execution_count": 112,
      "outputs": [
        {
          "output_type": "execute_result",
          "data": {
            "text/plain": [
              "0.02070240171631301"
            ]
          },
          "metadata": {},
          "execution_count": 112
        }
      ]
    },
    {
      "cell_type": "code",
      "source": [
        "ev.integrated_nbll(time_grid) "
      ],
      "metadata": {
        "colab": {
          "base_uri": "https://localhost:8080/"
        },
        "id": "hvbDQA3sgC74",
        "outputId": "96adbd3d-ccbe-44d7-9c79-c1da8b711b52"
      },
      "execution_count": 113,
      "outputs": [
        {
          "output_type": "execute_result",
          "data": {
            "text/plain": [
              "0.07063138087670702"
            ]
          },
          "metadata": {},
          "execution_count": 113
        }
      ]
    }
  ]
}