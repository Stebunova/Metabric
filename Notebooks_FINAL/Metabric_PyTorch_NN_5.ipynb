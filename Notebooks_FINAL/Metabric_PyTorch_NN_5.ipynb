{
 "cells": [
  {
   "cell_type": "code",
   "execution_count": 1,
   "metadata": {
    "colab": {
     "base_uri": "https://localhost:8080/"
    },
    "id": "w4VkjJmJLw31",
    "outputId": "76243fc6-1c3a-467e-841e-350b08e54911"
   },
   "outputs": [
    {
     "name": "stdout",
     "output_type": "stream",
     "text": [
      "Requirement already satisfied: torchtuples in /Users/levashev/opt/anaconda3/lib/python3.9/site-packages (0.2.2)\n",
      "Requirement already satisfied: matplotlib>=3.0.3 in /Users/levashev/opt/anaconda3/lib/python3.9/site-packages (from torchtuples) (3.6.2)\n",
      "Requirement already satisfied: pandas>=0.24.2 in /Users/levashev/opt/anaconda3/lib/python3.9/site-packages (from torchtuples) (1.5.3)\n",
      "Requirement already satisfied: numpy>=1.15.4 in /Users/levashev/opt/anaconda3/lib/python3.9/site-packages (from torchtuples) (1.23.5)\n",
      "Requirement already satisfied: fonttools>=4.22.0 in /Users/levashev/opt/anaconda3/lib/python3.9/site-packages (from matplotlib>=3.0.3->torchtuples) (4.25.0)\n",
      "Requirement already satisfied: kiwisolver>=1.0.1 in /Users/levashev/opt/anaconda3/lib/python3.9/site-packages (from matplotlib>=3.0.3->torchtuples) (1.4.4)\n",
      "Requirement already satisfied: contourpy>=1.0.1 in /Users/levashev/opt/anaconda3/lib/python3.9/site-packages (from matplotlib>=3.0.3->torchtuples) (1.0.5)\n",
      "Requirement already satisfied: cycler>=0.10 in /Users/levashev/opt/anaconda3/lib/python3.9/site-packages (from matplotlib>=3.0.3->torchtuples) (0.11.0)\n",
      "Requirement already satisfied: pyparsing>=2.2.1 in /Users/levashev/opt/anaconda3/lib/python3.9/site-packages (from matplotlib>=3.0.3->torchtuples) (3.0.9)\n",
      "Requirement already satisfied: pillow>=6.2.0 in /Users/levashev/opt/anaconda3/lib/python3.9/site-packages (from matplotlib>=3.0.3->torchtuples) (9.3.0)\n",
      "Requirement already satisfied: packaging>=20.0 in /Users/levashev/opt/anaconda3/lib/python3.9/site-packages (from matplotlib>=3.0.3->torchtuples) (23.0)\n",
      "Requirement already satisfied: python-dateutil>=2.7 in /Users/levashev/opt/anaconda3/lib/python3.9/site-packages (from matplotlib>=3.0.3->torchtuples) (2.8.2)\n",
      "Requirement already satisfied: pytz>=2020.1 in /Users/levashev/opt/anaconda3/lib/python3.9/site-packages (from pandas>=0.24.2->torchtuples) (2022.7)\n",
      "Requirement already satisfied: six>=1.5 in /Users/levashev/opt/anaconda3/lib/python3.9/site-packages (from python-dateutil>=2.7->matplotlib>=3.0.3->torchtuples) (1.16.0)\n"
     ]
    }
   ],
   "source": [
    "!pip install torchtuples"
   ]
  },
  {
   "cell_type": "code",
   "execution_count": 2,
   "metadata": {
    "id": "X1zno5FHLXgp"
   },
   "outputs": [],
   "source": [
    "import torch\n",
    "import numpy as np\n",
    "import pandas as pd\n",
    "import matplotlib.pyplot as plt\n",
    "from sklearn.preprocessing import StandardScaler\n",
    "from sklearn.model_selection import train_test_split\n",
    "from sklearn.impute import SimpleImputer\n",
    "from sklearn.preprocessing import LabelEncoder, OrdinalEncoder, OneHotEncoder\n",
    "from sklearn.pipeline import Pipeline\n",
    "import torchtuples as tt\n",
    "from sklearn.compose import ColumnTransformer\n",
    "from sklearn_pandas import DataFrameMapper \n",
    "%matplotlib inline "
   ]
  },
  {
   "cell_type": "code",
   "execution_count": 3,
   "metadata": {
    "colab": {
     "base_uri": "https://localhost:8080/"
    },
    "id": "s0PZUrtiMBbb",
    "outputId": "e61ee330-f3b8-49e8-c67a-ad9c87d1fc58"
   },
   "outputs": [
    {
     "name": "stdout",
     "output_type": "stream",
     "text": [
      "Requirement already satisfied: pycox in /Users/levashev/opt/anaconda3/lib/python3.9/site-packages (0.2.3)\n",
      "Requirement already satisfied: h5py>=2.9.0 in /Users/levashev/opt/anaconda3/lib/python3.9/site-packages (from pycox) (3.7.0)\n",
      "Requirement already satisfied: scikit-learn>=0.21.2 in /Users/levashev/opt/anaconda3/lib/python3.9/site-packages (from pycox) (1.2.0)\n",
      "Requirement already satisfied: py7zr>=0.11.3 in /Users/levashev/opt/anaconda3/lib/python3.9/site-packages (from pycox) (0.20.5)\n",
      "Requirement already satisfied: numba>=0.44 in /Users/levashev/opt/anaconda3/lib/python3.9/site-packages (from pycox) (0.56.4)\n",
      "Requirement already satisfied: torchtuples>=0.2.0 in /Users/levashev/opt/anaconda3/lib/python3.9/site-packages (from pycox) (0.2.2)\n",
      "Requirement already satisfied: requests>=2.22.0 in /Users/levashev/opt/anaconda3/lib/python3.9/site-packages (from pycox) (2.28.1)\n",
      "Requirement already satisfied: feather-format>=0.4.0 in /Users/levashev/opt/anaconda3/lib/python3.9/site-packages (from pycox) (0.4.1)\n",
      "Requirement already satisfied: pyarrow>=0.4.0 in /Users/levashev/opt/anaconda3/lib/python3.9/site-packages (from feather-format>=0.4.0->pycox) (11.0.0)\n",
      "Requirement already satisfied: numpy>=1.14.5 in /Users/levashev/opt/anaconda3/lib/python3.9/site-packages (from h5py>=2.9.0->pycox) (1.23.5)\n",
      "Requirement already satisfied: setuptools in /Users/levashev/opt/anaconda3/lib/python3.9/site-packages (from numba>=0.44->pycox) (65.6.3)\n",
      "Requirement already satisfied: llvmlite<0.40,>=0.39.0dev0 in /Users/levashev/opt/anaconda3/lib/python3.9/site-packages (from numba>=0.44->pycox) (0.39.1)\n",
      "Requirement already satisfied: pycryptodomex>=3.6.6 in /Users/levashev/opt/anaconda3/lib/python3.9/site-packages (from py7zr>=0.11.3->pycox) (3.16.0)\n",
      "Requirement already satisfied: pyppmd<1.1.0,>=0.18.1 in /Users/levashev/opt/anaconda3/lib/python3.9/site-packages (from py7zr>=0.11.3->pycox) (1.0.0)\n",
      "Requirement already satisfied: psutil in /Users/levashev/opt/anaconda3/lib/python3.9/site-packages (from py7zr>=0.11.3->pycox) (5.9.0)\n",
      "Requirement already satisfied: brotli>=1.0.9 in /Users/levashev/opt/anaconda3/lib/python3.9/site-packages (from py7zr>=0.11.3->pycox) (1.0.9)\n",
      "Requirement already satisfied: texttable in /Users/levashev/opt/anaconda3/lib/python3.9/site-packages (from py7zr>=0.11.3->pycox) (1.6.7)\n",
      "Requirement already satisfied: pyzstd>=0.14.4 in /Users/levashev/opt/anaconda3/lib/python3.9/site-packages (from py7zr>=0.11.3->pycox) (0.15.4)\n",
      "Requirement already satisfied: multivolumefile>=0.2.3 in /Users/levashev/opt/anaconda3/lib/python3.9/site-packages (from py7zr>=0.11.3->pycox) (0.2.3)\n",
      "Requirement already satisfied: inflate64>=0.3.1 in /Users/levashev/opt/anaconda3/lib/python3.9/site-packages (from py7zr>=0.11.3->pycox) (0.3.1)\n",
      "Requirement already satisfied: pybcj>=0.6.0 in /Users/levashev/opt/anaconda3/lib/python3.9/site-packages (from py7zr>=0.11.3->pycox) (1.0.1)\n",
      "Requirement already satisfied: idna<4,>=2.5 in /Users/levashev/opt/anaconda3/lib/python3.9/site-packages (from requests>=2.22.0->pycox) (3.4)\n",
      "Requirement already satisfied: certifi>=2017.4.17 in /Users/levashev/opt/anaconda3/lib/python3.9/site-packages (from requests>=2.22.0->pycox) (2022.12.7)\n",
      "Requirement already satisfied: urllib3<1.27,>=1.21.1 in /Users/levashev/opt/anaconda3/lib/python3.9/site-packages (from requests>=2.22.0->pycox) (1.26.14)\n",
      "Requirement already satisfied: charset-normalizer<3,>=2 in /Users/levashev/opt/anaconda3/lib/python3.9/site-packages (from requests>=2.22.0->pycox) (2.0.4)\n",
      "Requirement already satisfied: threadpoolctl>=2.0.0 in /Users/levashev/opt/anaconda3/lib/python3.9/site-packages (from scikit-learn>=0.21.2->pycox) (2.2.0)\n",
      "Requirement already satisfied: joblib>=1.1.1 in /Users/levashev/opt/anaconda3/lib/python3.9/site-packages (from scikit-learn>=0.21.2->pycox) (1.2.0)\n",
      "Requirement already satisfied: scipy>=1.3.2 in /Users/levashev/opt/anaconda3/lib/python3.9/site-packages (from scikit-learn>=0.21.2->pycox) (1.9.3)\n",
      "Requirement already satisfied: matplotlib>=3.0.3 in /Users/levashev/opt/anaconda3/lib/python3.9/site-packages (from torchtuples>=0.2.0->pycox) (3.6.2)\n",
      "Requirement already satisfied: pandas>=0.24.2 in /Users/levashev/opt/anaconda3/lib/python3.9/site-packages (from torchtuples>=0.2.0->pycox) (1.5.3)\n",
      "Requirement already satisfied: pillow>=6.2.0 in /Users/levashev/opt/anaconda3/lib/python3.9/site-packages (from matplotlib>=3.0.3->torchtuples>=0.2.0->pycox) (9.3.0)\n",
      "Requirement already satisfied: cycler>=0.10 in /Users/levashev/opt/anaconda3/lib/python3.9/site-packages (from matplotlib>=3.0.3->torchtuples>=0.2.0->pycox) (0.11.0)\n",
      "Requirement already satisfied: pyparsing>=2.2.1 in /Users/levashev/opt/anaconda3/lib/python3.9/site-packages (from matplotlib>=3.0.3->torchtuples>=0.2.0->pycox) (3.0.9)\n",
      "Requirement already satisfied: packaging>=20.0 in /Users/levashev/opt/anaconda3/lib/python3.9/site-packages (from matplotlib>=3.0.3->torchtuples>=0.2.0->pycox) (23.0)\n",
      "Requirement already satisfied: fonttools>=4.22.0 in /Users/levashev/opt/anaconda3/lib/python3.9/site-packages (from matplotlib>=3.0.3->torchtuples>=0.2.0->pycox) (4.25.0)\n",
      "Requirement already satisfied: contourpy>=1.0.1 in /Users/levashev/opt/anaconda3/lib/python3.9/site-packages (from matplotlib>=3.0.3->torchtuples>=0.2.0->pycox) (1.0.5)\n",
      "Requirement already satisfied: kiwisolver>=1.0.1 in /Users/levashev/opt/anaconda3/lib/python3.9/site-packages (from matplotlib>=3.0.3->torchtuples>=0.2.0->pycox) (1.4.4)\n",
      "Requirement already satisfied: python-dateutil>=2.7 in /Users/levashev/opt/anaconda3/lib/python3.9/site-packages (from matplotlib>=3.0.3->torchtuples>=0.2.0->pycox) (2.8.2)\n",
      "Requirement already satisfied: pytz>=2020.1 in /Users/levashev/opt/anaconda3/lib/python3.9/site-packages (from pandas>=0.24.2->torchtuples>=0.2.0->pycox) (2022.7)\n",
      "Requirement already satisfied: six>=1.5 in /Users/levashev/opt/anaconda3/lib/python3.9/site-packages (from python-dateutil>=2.7->matplotlib>=3.0.3->torchtuples>=0.2.0->pycox) (1.16.0)\n"
     ]
    }
   ],
   "source": [
    "!pip install pycox"
   ]
  },
  {
   "cell_type": "code",
   "execution_count": 4,
   "metadata": {
    "id": "a7LYcVh8L9F_"
   },
   "outputs": [],
   "source": [
    "# импортируем библиотеку pycox для построения нейронной сети DeepSurv\n",
    "import pycox\n",
    "from pycox.models import LogisticHazard\n",
    "from pycox.evaluation import EvalSurv"
   ]
  },
  {
   "cell_type": "code",
   "execution_count": 5,
   "metadata": {
    "id": "-plp0lfQL9_j"
   },
   "outputs": [],
   "source": [
    "np.random.seed(1234)\n",
    "_ = torch.manual_seed(123)"
   ]
  },
  {
   "cell_type": "code",
   "execution_count": 6,
   "metadata": {
    "id": "cYCKqQyRL-Df"
   },
   "outputs": [],
   "source": [
    "X_full = pd.read_csv('data/METABRIC_RNA_Mutation.csv', low_memory=False)"
   ]
  },
  {
   "cell_type": "code",
   "execution_count": 7,
   "metadata": {
    "id": "KTXoELlfL-IY"
   },
   "outputs": [],
   "source": [
    "clinical_df = X_full.iloc[:, :31]"
   ]
  },
  {
   "cell_type": "code",
   "execution_count": 8,
   "metadata": {
    "id": "12mP58DsMbWn"
   },
   "outputs": [],
   "source": [
    "clinical_df_inverted = clinical_df.copy()"
   ]
  },
  {
   "cell_type": "code",
   "execution_count": 9,
   "metadata": {
    "id": "fJgbpyMhMbhU"
   },
   "outputs": [],
   "source": [
    "clinical_df_inverted['overall_survival'] = clinical_df_inverted['overall_survival'].replace([0,1],[1,0])"
   ]
  },
  {
   "cell_type": "code",
   "execution_count": 10,
   "metadata": {
    "id": "2beRwE4IMbs8"
   },
   "outputs": [],
   "source": [
    "KM_df = clinical_df_inverted.copy()"
   ]
  },
  {
   "cell_type": "code",
   "execution_count": 11,
   "metadata": {
    "id": "1ALGzZUuMivl"
   },
   "outputs": [],
   "source": [
    "KM_df.drop(['patient_id', 'cohort', 'cancer_type', 'oncotree_code', 'death_from_cancer'], axis=1, inplace=True)"
   ]
  },
  {
   "cell_type": "code",
   "execution_count": 12,
   "metadata": {
    "colab": {
     "base_uri": "https://localhost:8080/"
    },
    "id": "V38olkOoZPmc",
    "outputId": "aa9a24ba-6989-41a8-8a9f-ba527cbf1371"
   },
   "outputs": [
    {
     "name": "stdout",
     "output_type": "stream",
     "text": [
      "['type_of_breast_surgery', 'cancer_type_detailed', 'cellularity', 'pam50_+_claudin-low_subtype', 'er_status_measured_by_ihc', 'er_status', 'her2_status_measured_by_snp6', 'her2_status', 'tumor_other_histologic_subtype', 'inferred_menopausal_state', 'integrative_cluster', 'primary_tumor_laterality', 'pr_status', '3-gene_classifier_subtype']\n"
     ]
    }
   ],
   "source": [
    "cat_columns = [cname for cname in KM_df.columns if\n",
    "                    KM_df[cname].dtype == \"object\"]\n",
    "print(cat_columns)"
   ]
  },
  {
   "cell_type": "code",
   "execution_count": 13,
   "metadata": {
    "id": "3pYgMFdyZXpf"
   },
   "outputs": [],
   "source": [
    "cat_pipeline = Pipeline([\n",
    "    ('oe', OrdinalEncoder()),\n",
    "])"
   ]
  },
  {
   "cell_type": "code",
   "execution_count": 14,
   "metadata": {
    "id": "w9Rt2t6SZA9T"
   },
   "outputs": [],
   "source": [
    "preprocessor = ColumnTransformer(\n",
    "    transformers=[\n",
    "        ('cat', cat_pipeline, cat_columns)\n",
    "    ], remainder='passthrough')"
   ]
  },
  {
   "cell_type": "code",
   "execution_count": 15,
   "metadata": {
    "colab": {
     "base_uri": "https://localhost:8080/",
     "height": 505
    },
    "id": "t8kaabTqZccE",
    "outputId": "64952ffd-af8b-49a8-c73d-f141788ee1d5"
   },
   "outputs": [
    {
     "data": {
      "text/html": [
       "<div>\n",
       "<style scoped>\n",
       "    .dataframe tbody tr th:only-of-type {\n",
       "        vertical-align: middle;\n",
       "    }\n",
       "\n",
       "    .dataframe tbody tr th {\n",
       "        vertical-align: top;\n",
       "    }\n",
       "\n",
       "    .dataframe thead th {\n",
       "        text-align: right;\n",
       "    }\n",
       "</style>\n",
       "<table border=\"1\" class=\"dataframe\">\n",
       "  <thead>\n",
       "    <tr style=\"text-align: right;\">\n",
       "      <th></th>\n",
       "      <th>cat__type_of_breast_surgery</th>\n",
       "      <th>cat__cancer_type_detailed</th>\n",
       "      <th>cat__cellularity</th>\n",
       "      <th>cat__pam50_+_claudin-low_subtype</th>\n",
       "      <th>cat__er_status_measured_by_ihc</th>\n",
       "      <th>cat__er_status</th>\n",
       "      <th>cat__her2_status_measured_by_snp6</th>\n",
       "      <th>cat__her2_status</th>\n",
       "      <th>cat__tumor_other_histologic_subtype</th>\n",
       "      <th>cat__inferred_menopausal_state</th>\n",
       "      <th>...</th>\n",
       "      <th>remainder__neoplasm_histologic_grade</th>\n",
       "      <th>remainder__hormone_therapy</th>\n",
       "      <th>remainder__lymph_nodes_examined_positive</th>\n",
       "      <th>remainder__mutation_count</th>\n",
       "      <th>remainder__nottingham_prognostic_index</th>\n",
       "      <th>remainder__overall_survival_months</th>\n",
       "      <th>remainder__overall_survival</th>\n",
       "      <th>remainder__radio_therapy</th>\n",
       "      <th>remainder__tumor_size</th>\n",
       "      <th>remainder__tumor_stage</th>\n",
       "    </tr>\n",
       "  </thead>\n",
       "  <tbody>\n",
       "    <tr>\n",
       "      <th>0</th>\n",
       "      <td>1.0</td>\n",
       "      <td>1.0</td>\n",
       "      <td>NaN</td>\n",
       "      <td>6.0</td>\n",
       "      <td>1.0</td>\n",
       "      <td>1.0</td>\n",
       "      <td>2.0</td>\n",
       "      <td>0.0</td>\n",
       "      <td>0.0</td>\n",
       "      <td>0.0</td>\n",
       "      <td>...</td>\n",
       "      <td>3.0</td>\n",
       "      <td>1</td>\n",
       "      <td>10.0</td>\n",
       "      <td>NaN</td>\n",
       "      <td>6.044</td>\n",
       "      <td>140.500000</td>\n",
       "      <td>0</td>\n",
       "      <td>1</td>\n",
       "      <td>22.0</td>\n",
       "      <td>2.0</td>\n",
       "    </tr>\n",
       "    <tr>\n",
       "      <th>1</th>\n",
       "      <td>0.0</td>\n",
       "      <td>1.0</td>\n",
       "      <td>0.0</td>\n",
       "      <td>2.0</td>\n",
       "      <td>1.0</td>\n",
       "      <td>1.0</td>\n",
       "      <td>2.0</td>\n",
       "      <td>0.0</td>\n",
       "      <td>0.0</td>\n",
       "      <td>1.0</td>\n",
       "      <td>...</td>\n",
       "      <td>3.0</td>\n",
       "      <td>1</td>\n",
       "      <td>0.0</td>\n",
       "      <td>2.0</td>\n",
       "      <td>4.020</td>\n",
       "      <td>84.633333</td>\n",
       "      <td>0</td>\n",
       "      <td>1</td>\n",
       "      <td>10.0</td>\n",
       "      <td>1.0</td>\n",
       "    </tr>\n",
       "    <tr>\n",
       "      <th>2</th>\n",
       "      <td>1.0</td>\n",
       "      <td>1.0</td>\n",
       "      <td>0.0</td>\n",
       "      <td>3.0</td>\n",
       "      <td>1.0</td>\n",
       "      <td>1.0</td>\n",
       "      <td>2.0</td>\n",
       "      <td>0.0</td>\n",
       "      <td>0.0</td>\n",
       "      <td>1.0</td>\n",
       "      <td>...</td>\n",
       "      <td>2.0</td>\n",
       "      <td>1</td>\n",
       "      <td>1.0</td>\n",
       "      <td>2.0</td>\n",
       "      <td>4.030</td>\n",
       "      <td>163.700000</td>\n",
       "      <td>1</td>\n",
       "      <td>0</td>\n",
       "      <td>15.0</td>\n",
       "      <td>2.0</td>\n",
       "    </tr>\n",
       "    <tr>\n",
       "      <th>3</th>\n",
       "      <td>1.0</td>\n",
       "      <td>4.0</td>\n",
       "      <td>2.0</td>\n",
       "      <td>3.0</td>\n",
       "      <td>1.0</td>\n",
       "      <td>1.0</td>\n",
       "      <td>2.0</td>\n",
       "      <td>0.0</td>\n",
       "      <td>4.0</td>\n",
       "      <td>1.0</td>\n",
       "      <td>...</td>\n",
       "      <td>2.0</td>\n",
       "      <td>1</td>\n",
       "      <td>3.0</td>\n",
       "      <td>1.0</td>\n",
       "      <td>4.050</td>\n",
       "      <td>164.933333</td>\n",
       "      <td>0</td>\n",
       "      <td>1</td>\n",
       "      <td>25.0</td>\n",
       "      <td>2.0</td>\n",
       "    </tr>\n",
       "    <tr>\n",
       "      <th>4</th>\n",
       "      <td>1.0</td>\n",
       "      <td>4.0</td>\n",
       "      <td>0.0</td>\n",
       "      <td>3.0</td>\n",
       "      <td>1.0</td>\n",
       "      <td>1.0</td>\n",
       "      <td>2.0</td>\n",
       "      <td>0.0</td>\n",
       "      <td>4.0</td>\n",
       "      <td>0.0</td>\n",
       "      <td>...</td>\n",
       "      <td>3.0</td>\n",
       "      <td>1</td>\n",
       "      <td>8.0</td>\n",
       "      <td>2.0</td>\n",
       "      <td>6.080</td>\n",
       "      <td>41.366667</td>\n",
       "      <td>1</td>\n",
       "      <td>1</td>\n",
       "      <td>40.0</td>\n",
       "      <td>2.0</td>\n",
       "    </tr>\n",
       "    <tr>\n",
       "      <th>...</th>\n",
       "      <td>...</td>\n",
       "      <td>...</td>\n",
       "      <td>...</td>\n",
       "      <td>...</td>\n",
       "      <td>...</td>\n",
       "      <td>...</td>\n",
       "      <td>...</td>\n",
       "      <td>...</td>\n",
       "      <td>...</td>\n",
       "      <td>...</td>\n",
       "      <td>...</td>\n",
       "      <td>...</td>\n",
       "      <td>...</td>\n",
       "      <td>...</td>\n",
       "      <td>...</td>\n",
       "      <td>...</td>\n",
       "      <td>...</td>\n",
       "      <td>...</td>\n",
       "      <td>...</td>\n",
       "      <td>...</td>\n",
       "      <td>...</td>\n",
       "    </tr>\n",
       "    <tr>\n",
       "      <th>1899</th>\n",
       "      <td>0.0</td>\n",
       "      <td>2.0</td>\n",
       "      <td>0.0</td>\n",
       "      <td>2.0</td>\n",
       "      <td>1.0</td>\n",
       "      <td>1.0</td>\n",
       "      <td>2.0</td>\n",
       "      <td>0.0</td>\n",
       "      <td>1.0</td>\n",
       "      <td>1.0</td>\n",
       "      <td>...</td>\n",
       "      <td>3.0</td>\n",
       "      <td>1</td>\n",
       "      <td>1.0</td>\n",
       "      <td>4.0</td>\n",
       "      <td>5.050</td>\n",
       "      <td>196.866667</td>\n",
       "      <td>0</td>\n",
       "      <td>1</td>\n",
       "      <td>25.0</td>\n",
       "      <td>NaN</td>\n",
       "    </tr>\n",
       "    <tr>\n",
       "      <th>1900</th>\n",
       "      <td>1.0</td>\n",
       "      <td>1.0</td>\n",
       "      <td>0.0</td>\n",
       "      <td>3.0</td>\n",
       "      <td>1.0</td>\n",
       "      <td>1.0</td>\n",
       "      <td>0.0</td>\n",
       "      <td>1.0</td>\n",
       "      <td>0.0</td>\n",
       "      <td>1.0</td>\n",
       "      <td>...</td>\n",
       "      <td>3.0</td>\n",
       "      <td>0</td>\n",
       "      <td>1.0</td>\n",
       "      <td>6.0</td>\n",
       "      <td>5.040</td>\n",
       "      <td>44.733333</td>\n",
       "      <td>1</td>\n",
       "      <td>1</td>\n",
       "      <td>20.0</td>\n",
       "      <td>NaN</td>\n",
       "    </tr>\n",
       "    <tr>\n",
       "      <th>1901</th>\n",
       "      <td>1.0</td>\n",
       "      <td>1.0</td>\n",
       "      <td>0.0</td>\n",
       "      <td>3.0</td>\n",
       "      <td>1.0</td>\n",
       "      <td>1.0</td>\n",
       "      <td>2.0</td>\n",
       "      <td>0.0</td>\n",
       "      <td>0.0</td>\n",
       "      <td>0.0</td>\n",
       "      <td>...</td>\n",
       "      <td>3.0</td>\n",
       "      <td>1</td>\n",
       "      <td>45.0</td>\n",
       "      <td>4.0</td>\n",
       "      <td>6.050</td>\n",
       "      <td>175.966667</td>\n",
       "      <td>1</td>\n",
       "      <td>1</td>\n",
       "      <td>25.0</td>\n",
       "      <td>NaN</td>\n",
       "    </tr>\n",
       "    <tr>\n",
       "      <th>1902</th>\n",
       "      <td>1.0</td>\n",
       "      <td>1.0</td>\n",
       "      <td>2.0</td>\n",
       "      <td>3.0</td>\n",
       "      <td>1.0</td>\n",
       "      <td>1.0</td>\n",
       "      <td>2.0</td>\n",
       "      <td>0.0</td>\n",
       "      <td>0.0</td>\n",
       "      <td>0.0</td>\n",
       "      <td>...</td>\n",
       "      <td>2.0</td>\n",
       "      <td>1</td>\n",
       "      <td>12.0</td>\n",
       "      <td>15.0</td>\n",
       "      <td>5.050</td>\n",
       "      <td>86.233333</td>\n",
       "      <td>1</td>\n",
       "      <td>0</td>\n",
       "      <td>25.0</td>\n",
       "      <td>NaN</td>\n",
       "    </tr>\n",
       "    <tr>\n",
       "      <th>1903</th>\n",
       "      <td>0.0</td>\n",
       "      <td>1.0</td>\n",
       "      <td>0.0</td>\n",
       "      <td>3.0</td>\n",
       "      <td>1.0</td>\n",
       "      <td>1.0</td>\n",
       "      <td>2.0</td>\n",
       "      <td>0.0</td>\n",
       "      <td>0.0</td>\n",
       "      <td>0.0</td>\n",
       "      <td>...</td>\n",
       "      <td>3.0</td>\n",
       "      <td>1</td>\n",
       "      <td>1.0</td>\n",
       "      <td>3.0</td>\n",
       "      <td>5.040</td>\n",
       "      <td>201.900000</td>\n",
       "      <td>1</td>\n",
       "      <td>1</td>\n",
       "      <td>20.0</td>\n",
       "      <td>NaN</td>\n",
       "    </tr>\n",
       "  </tbody>\n",
       "</table>\n",
       "<p>1904 rows × 26 columns</p>\n",
       "</div>"
      ],
      "text/plain": [
       "      cat__type_of_breast_surgery  cat__cancer_type_detailed  \\\n",
       "0                             1.0                        1.0   \n",
       "1                             0.0                        1.0   \n",
       "2                             1.0                        1.0   \n",
       "3                             1.0                        4.0   \n",
       "4                             1.0                        4.0   \n",
       "...                           ...                        ...   \n",
       "1899                          0.0                        2.0   \n",
       "1900                          1.0                        1.0   \n",
       "1901                          1.0                        1.0   \n",
       "1902                          1.0                        1.0   \n",
       "1903                          0.0                        1.0   \n",
       "\n",
       "      cat__cellularity  cat__pam50_+_claudin-low_subtype  \\\n",
       "0                  NaN                               6.0   \n",
       "1                  0.0                               2.0   \n",
       "2                  0.0                               3.0   \n",
       "3                  2.0                               3.0   \n",
       "4                  0.0                               3.0   \n",
       "...                ...                               ...   \n",
       "1899               0.0                               2.0   \n",
       "1900               0.0                               3.0   \n",
       "1901               0.0                               3.0   \n",
       "1902               2.0                               3.0   \n",
       "1903               0.0                               3.0   \n",
       "\n",
       "      cat__er_status_measured_by_ihc  cat__er_status  \\\n",
       "0                                1.0             1.0   \n",
       "1                                1.0             1.0   \n",
       "2                                1.0             1.0   \n",
       "3                                1.0             1.0   \n",
       "4                                1.0             1.0   \n",
       "...                              ...             ...   \n",
       "1899                             1.0             1.0   \n",
       "1900                             1.0             1.0   \n",
       "1901                             1.0             1.0   \n",
       "1902                             1.0             1.0   \n",
       "1903                             1.0             1.0   \n",
       "\n",
       "      cat__her2_status_measured_by_snp6  cat__her2_status  \\\n",
       "0                                   2.0               0.0   \n",
       "1                                   2.0               0.0   \n",
       "2                                   2.0               0.0   \n",
       "3                                   2.0               0.0   \n",
       "4                                   2.0               0.0   \n",
       "...                                 ...               ...   \n",
       "1899                                2.0               0.0   \n",
       "1900                                0.0               1.0   \n",
       "1901                                2.0               0.0   \n",
       "1902                                2.0               0.0   \n",
       "1903                                2.0               0.0   \n",
       "\n",
       "      cat__tumor_other_histologic_subtype  cat__inferred_menopausal_state  \\\n",
       "0                                     0.0                             0.0   \n",
       "1                                     0.0                             1.0   \n",
       "2                                     0.0                             1.0   \n",
       "3                                     4.0                             1.0   \n",
       "4                                     4.0                             0.0   \n",
       "...                                   ...                             ...   \n",
       "1899                                  1.0                             1.0   \n",
       "1900                                  0.0                             1.0   \n",
       "1901                                  0.0                             0.0   \n",
       "1902                                  0.0                             0.0   \n",
       "1903                                  0.0                             0.0   \n",
       "\n",
       "      ...  remainder__neoplasm_histologic_grade  remainder__hormone_therapy  \\\n",
       "0     ...                                   3.0                           1   \n",
       "1     ...                                   3.0                           1   \n",
       "2     ...                                   2.0                           1   \n",
       "3     ...                                   2.0                           1   \n",
       "4     ...                                   3.0                           1   \n",
       "...   ...                                   ...                         ...   \n",
       "1899  ...                                   3.0                           1   \n",
       "1900  ...                                   3.0                           0   \n",
       "1901  ...                                   3.0                           1   \n",
       "1902  ...                                   2.0                           1   \n",
       "1903  ...                                   3.0                           1   \n",
       "\n",
       "      remainder__lymph_nodes_examined_positive  remainder__mutation_count  \\\n",
       "0                                         10.0                        NaN   \n",
       "1                                          0.0                        2.0   \n",
       "2                                          1.0                        2.0   \n",
       "3                                          3.0                        1.0   \n",
       "4                                          8.0                        2.0   \n",
       "...                                        ...                        ...   \n",
       "1899                                       1.0                        4.0   \n",
       "1900                                       1.0                        6.0   \n",
       "1901                                      45.0                        4.0   \n",
       "1902                                      12.0                       15.0   \n",
       "1903                                       1.0                        3.0   \n",
       "\n",
       "      remainder__nottingham_prognostic_index  \\\n",
       "0                                      6.044   \n",
       "1                                      4.020   \n",
       "2                                      4.030   \n",
       "3                                      4.050   \n",
       "4                                      6.080   \n",
       "...                                      ...   \n",
       "1899                                   5.050   \n",
       "1900                                   5.040   \n",
       "1901                                   6.050   \n",
       "1902                                   5.050   \n",
       "1903                                   5.040   \n",
       "\n",
       "      remainder__overall_survival_months  remainder__overall_survival  \\\n",
       "0                             140.500000                            0   \n",
       "1                              84.633333                            0   \n",
       "2                             163.700000                            1   \n",
       "3                             164.933333                            0   \n",
       "4                              41.366667                            1   \n",
       "...                                  ...                          ...   \n",
       "1899                          196.866667                            0   \n",
       "1900                           44.733333                            1   \n",
       "1901                          175.966667                            1   \n",
       "1902                           86.233333                            1   \n",
       "1903                          201.900000                            1   \n",
       "\n",
       "      remainder__radio_therapy  remainder__tumor_size  remainder__tumor_stage  \n",
       "0                            1                   22.0                     2.0  \n",
       "1                            1                   10.0                     1.0  \n",
       "2                            0                   15.0                     2.0  \n",
       "3                            1                   25.0                     2.0  \n",
       "4                            1                   40.0                     2.0  \n",
       "...                        ...                    ...                     ...  \n",
       "1899                         1                   25.0                     NaN  \n",
       "1900                         1                   20.0                     NaN  \n",
       "1901                         1                   25.0                     NaN  \n",
       "1902                         0                   25.0                     NaN  \n",
       "1903                         1                   20.0                     NaN  \n",
       "\n",
       "[1904 rows x 26 columns]"
      ]
     },
     "execution_count": 15,
     "metadata": {},
     "output_type": "execute_result"
    }
   ],
   "source": [
    "preprocessor.set_output(transform='pandas')\n",
    "X_pandas = preprocessor.fit_transform(KM_df)\n",
    "X_pandas"
   ]
  },
  {
   "cell_type": "code",
   "execution_count": 16,
   "metadata": {
    "id": "FiDpU3IfMi45"
   },
   "outputs": [],
   "source": [
    "# немного непривычный способ после train/test sklearn, но не получалось нормально подать данные в модель, пришлось подглядеть и использовать\n",
    "df_train = X_pandas\n",
    "df_test = df_train.sample(frac=0.2)\n",
    "df_train = df_train.drop(df_test.index)\n",
    "df_val = df_train.sample(frac=0.2)\n",
    "df_train = df_train.drop(df_val.index)"
   ]
  },
  {
   "cell_type": "code",
   "execution_count": 17,
   "metadata": {
    "id": "iuL67MdBZ-vr"
   },
   "outputs": [],
   "source": [
    "X_pandas = X_pandas.fillna(X_pandas.median())"
   ]
  },
  {
   "cell_type": "code",
   "execution_count": 18,
   "metadata": {
    "colab": {
     "base_uri": "https://localhost:8080/"
    },
    "id": "rd1N42_gMjDO",
    "outputId": "231f3f49-341c-47ed-c5cb-f8a7ffaa9ef5"
   },
   "outputs": [
    {
     "name": "stdout",
     "output_type": "stream",
     "text": [
      "['cat__type_of_breast_surgery', 'cat__cancer_type_detailed', 'cat__cellularity', 'cat__pam50_+_claudin-low_subtype', 'cat__er_status_measured_by_ihc', 'cat__er_status', 'cat__her2_status_measured_by_snp6', 'cat__her2_status', 'cat__tumor_other_histologic_subtype', 'cat__inferred_menopausal_state', 'cat__integrative_cluster', 'cat__primary_tumor_laterality', 'cat__pr_status', 'cat__3-gene_classifier_subtype', 'remainder__age_at_diagnosis', 'remainder__chemotherapy', 'remainder__neoplasm_histologic_grade', 'remainder__hormone_therapy', 'remainder__lymph_nodes_examined_positive', 'remainder__mutation_count', 'remainder__nottingham_prognostic_index', 'remainder__overall_survival_months', 'remainder__overall_survival', 'remainder__radio_therapy', 'remainder__tumor_size', 'remainder__tumor_stage']\n"
     ]
    }
   ],
   "source": [
    "num_columns = [cname for cname in X_pandas.columns if \n",
    "                X_pandas[cname].dtype in ['int64', 'float64']]\n",
    "print(num_columns)"
   ]
  },
  {
   "cell_type": "code",
   "execution_count": 19,
   "metadata": {
    "id": "Wj85GWaYMxR5"
   },
   "outputs": [],
   "source": [
    "cols_standardize = ['cat__cancer_type_detailed', 'cat__integrative_cluster', 'cat__primary_tumor_laterality', 'cat__pr_status', 'cat__3-gene_classifier_subtype', 'cat__cellularity', 'cat__her2_status_measured_by_snp6', 'cat__her2_status', 'cat__tumor_other_histologic_subtype','cat__pam50_+_claudin-low_subtype','remainder__age_at_diagnosis', 'remainder__neoplasm_histologic_grade', 'remainder__lymph_nodes_examined_positive', 'remainder__mutation_count', 'remainder__nottingham_prognostic_index', 'remainder__tumor_size', 'remainder__tumor_stage']\n",
    "cols_leave = ['remainder__chemotherapy', 'remainder__hormone_therapy', 'remainder__overall_survival_months', 'remainder__overall_survival', 'remainder__radio_therapy']\n",
    "standardize = [([col], StandardScaler()) for col in cols_standardize]\n",
    "leave = [(col, None) for col in cols_leave]\n",
    "x_mapper = DataFrameMapper(standardize + leave)\n",
    "# ColumnTransformer не помог, пришлось выбрать x_mapper (как-то получалось все не так, точнее, не получалось)"
   ]
  },
  {
   "cell_type": "code",
   "execution_count": 20,
   "metadata": {
    "id": "8jqdE1Hla9c_"
   },
   "outputs": [],
   "source": [
    "df_train = X_pandas\n",
    "df_test = df_train.sample(frac=0.2)\n",
    "df_train = df_train.drop(df_test.index)\n",
    "df_val = df_train.sample(frac=0.2)\n",
    "df_train = df_train.drop(df_val.index)"
   ]
  },
  {
   "cell_type": "code",
   "execution_count": 21,
   "metadata": {
    "id": "900eSnJPM3Nk"
   },
   "outputs": [],
   "source": [
    "# float32 - требование PyTorch\n",
    "x_train = x_mapper.fit_transform(df_train).astype('float32')\n",
    "x_val = x_mapper.transform(df_val).astype('float32')\n",
    "x_test = x_mapper.transform(df_test).astype('float32')"
   ]
  },
  {
   "cell_type": "code",
   "execution_count": 159,
   "metadata": {
    "id": "dEHukiqsM3Xm"
   },
   "outputs": [],
   "source": [
    "num_durations = 20\n",
    "\n",
    "labtrans = LogisticHazard.label_transform(num_durations)\n",
    "\n",
    "get_target = lambda X_pandas: (X_pandas['remainder__overall_survival_months'].values, X_pandas['remainder__overall_survival'].values)\n",
    "y_train = labtrans.fit_transform(*get_target(df_train))\n",
    "y_val = labtrans.transform(*get_target(df_val))\n",
    "\n",
    "train = (x_train, y_train)\n",
    "val = (x_val, y_val)\n",
    "\n",
    "\n",
    "months_test, events_test = get_target(df_test)"
   ]
  },
  {
   "cell_type": "code",
   "execution_count": 160,
   "metadata": {
    "colab": {
     "base_uri": "https://localhost:8080/"
    },
    "id": "xHZq3eluM3hg",
    "outputId": "baa05977-6ea1-42e5-9bbb-65666e8016e9"
   },
   "outputs": [
    {
     "data": {
      "text/plain": [
       "pycox.preprocessing.label_transforms.LabTransDiscreteTime"
      ]
     },
     "execution_count": 160,
     "metadata": {},
     "output_type": "execute_result"
    }
   ],
   "source": [
    "type(labtrans)"
   ]
  },
  {
   "cell_type": "code",
   "execution_count": 161,
   "metadata": {
    "colab": {
     "base_uri": "https://localhost:8080/"
    },
    "id": "jylGsC07M3r1",
    "outputId": "c9c3c258-f5dd-43a9-9e26-d10b8e8c4019"
   },
   "outputs": [
    {
     "data": {
      "text/plain": [
       "array([  0.        ,  18.69473684,  37.38947368,  56.08421053,\n",
       "        74.77894737,  93.47368421, 112.16842105, 130.86315789,\n",
       "       149.55789474, 168.25263158, 186.94736842, 205.64210526,\n",
       "       224.33684211, 243.03157895, 261.72631579, 280.42105263,\n",
       "       299.11578947, 317.81052632, 336.50526316, 355.2       ])"
      ]
     },
     "execution_count": 161,
     "metadata": {},
     "output_type": "execute_result"
    }
   ],
   "source": [
    "labtrans.cuts"
   ]
  },
  {
   "cell_type": "code",
   "execution_count": 162,
   "metadata": {
    "colab": {
     "base_uri": "https://localhost:8080/"
    },
    "id": "pGA7HYwGM32y",
    "outputId": "0cecaabd-af4f-481d-c7f0-8eb7816c4942"
   },
   "outputs": [
    {
     "data": {
      "text/plain": [
       "array([ 74.77894737, 168.25263158, 149.55789474, ..., 186.94736842,\n",
       "       186.94736842,  93.47368421])"
      ]
     },
     "execution_count": 162,
     "metadata": {},
     "output_type": "execute_result"
    }
   ],
   "source": [
    "labtrans.cuts[y_train[0]]"
   ]
  },
  {
   "cell_type": "markdown",
   "metadata": {
    "id": "D23BJBRoNJK7"
   },
   "source": [
    "#Нейронная сеть 2 скрытых слоя по 32 каждый, ReLU активац ф-я, выходные переменные. Также потребуется batch normalization (пакетная нормализация) и dropout слои."
   ]
  },
  {
   "cell_type": "code",
   "execution_count": 163,
   "metadata": {
    "id": "x1byIlRdMxdI"
   },
   "outputs": [],
   "source": [
    "in_features = x_train.shape[1]\n",
    "num_nodes = [32, 32]\n",
    "out_features = labtrans.out_features\n",
    "batch_norm = True\n",
    "dropout = 0.1\n",
    "\n",
    "net = tt.practical.MLPVanilla(in_features, num_nodes, out_features, batch_norm, dropout)"
   ]
  },
  {
   "cell_type": "code",
   "execution_count": 164,
   "metadata": {
    "id": "UdV7yrWDNRQb"
   },
   "outputs": [],
   "source": [
    "model = LogisticHazard(net, tt.optim.Adam(0.01), duration_index=labtrans.cuts)\n"
   ]
  },
  {
   "cell_type": "code",
   "execution_count": 165,
   "metadata": {
    "id": "YG2H4tKkNTqx"
   },
   "outputs": [],
   "source": [
    "batch_size = 256\n",
    "epochs = 100\n",
    "callbacks = [tt.cb.EarlyStopping()]"
   ]
  },
  {
   "cell_type": "code",
   "execution_count": 166,
   "metadata": {
    "colab": {
     "base_uri": "https://localhost:8080/"
    },
    "id": "4x9yRFWfNWJd",
    "outputId": "029b459d-ac61-481f-b8a0-dd2848a8f79d"
   },
   "outputs": [
    {
     "name": "stdout",
     "output_type": "stream",
     "text": [
      "0:\t[0s / 0s],\t\ttrain_loss: 4.6847,\tval_loss: 3.3286\n",
      "1:\t[0s / 0s],\t\ttrain_loss: 3.4345,\tval_loss: 2.9672\n",
      "2:\t[0s / 0s],\t\ttrain_loss: 2.7011,\tval_loss: 2.8647\n",
      "3:\t[0s / 0s],\t\ttrain_loss: 2.1908,\tval_loss: 2.4203\n",
      "4:\t[0s / 1s],\t\ttrain_loss: 1.7865,\tval_loss: 1.7875\n",
      "5:\t[0s / 1s],\t\ttrain_loss: 1.4069,\tval_loss: 1.2628\n",
      "6:\t[0s / 1s],\t\ttrain_loss: 1.1223,\tval_loss: 0.9822\n",
      "7:\t[0s / 1s],\t\ttrain_loss: 0.9291,\tval_loss: 0.9111\n",
      "8:\t[0s / 1s],\t\ttrain_loss: 0.8190,\tval_loss: 0.9980\n",
      "9:\t[0s / 2s],\t\ttrain_loss: 0.7731,\tval_loss: 0.7848\n",
      "10:\t[0s / 2s],\t\ttrain_loss: 0.7039,\tval_loss: 0.9342\n",
      "11:\t[0s / 3s],\t\ttrain_loss: 0.6651,\tval_loss: 0.8829\n",
      "12:\t[0s / 3s],\t\ttrain_loss: 0.6747,\tval_loss: 0.7349\n",
      "13:\t[0s / 3s],\t\ttrain_loss: 0.6336,\tval_loss: 0.7682\n",
      "14:\t[0s / 4s],\t\ttrain_loss: 0.5952,\tval_loss: 0.7257\n",
      "15:\t[0s / 4s],\t\ttrain_loss: 0.5539,\tval_loss: 0.6374\n",
      "16:\t[0s / 4s],\t\ttrain_loss: 0.5527,\tval_loss: 0.5387\n",
      "17:\t[0s / 5s],\t\ttrain_loss: 0.6107,\tval_loss: 0.5330\n",
      "18:\t[0s / 5s],\t\ttrain_loss: 0.5317,\tval_loss: 0.5201\n",
      "19:\t[0s / 6s],\t\ttrain_loss: 0.5450,\tval_loss: 0.5494\n",
      "20:\t[0s / 6s],\t\ttrain_loss: 0.5238,\tval_loss: 0.5444\n",
      "21:\t[0s / 7s],\t\ttrain_loss: 0.4921,\tval_loss: 0.6063\n",
      "22:\t[0s / 7s],\t\ttrain_loss: 0.5161,\tval_loss: 0.5120\n",
      "23:\t[0s / 7s],\t\ttrain_loss: 0.4949,\tval_loss: 0.4963\n",
      "24:\t[0s / 8s],\t\ttrain_loss: 0.4464,\tval_loss: 0.6094\n",
      "25:\t[0s / 8s],\t\ttrain_loss: 0.4705,\tval_loss: 0.6022\n",
      "26:\t[0s / 9s],\t\ttrain_loss: 0.4916,\tval_loss: 0.6918\n",
      "27:\t[0s / 9s],\t\ttrain_loss: 0.4791,\tval_loss: 0.6620\n",
      "28:\t[0s / 10s],\t\ttrain_loss: 0.4477,\tval_loss: 0.4624\n",
      "29:\t[0s / 10s],\t\ttrain_loss: 0.4495,\tval_loss: 0.6026\n",
      "30:\t[0s / 11s],\t\ttrain_loss: 0.5052,\tval_loss: 0.7561\n",
      "31:\t[0s / 11s],\t\ttrain_loss: 0.4501,\tval_loss: 0.6159\n",
      "32:\t[0s / 11s],\t\ttrain_loss: 0.4370,\tval_loss: 0.5860\n",
      "33:\t[0s / 12s],\t\ttrain_loss: 0.4606,\tval_loss: 0.7192\n",
      "34:\t[0s / 12s],\t\ttrain_loss: 0.4125,\tval_loss: 0.5875\n",
      "35:\t[0s / 13s],\t\ttrain_loss: 0.5173,\tval_loss: 0.6148\n",
      "36:\t[0s / 14s],\t\ttrain_loss: 0.5307,\tval_loss: 0.6111\n",
      "37:\t[0s / 14s],\t\ttrain_loss: 0.4010,\tval_loss: 0.5460\n",
      "38:\t[0s / 15s],\t\ttrain_loss: 0.4473,\tval_loss: 0.4737\n"
     ]
    }
   ],
   "source": [
    "log = model.fit(x_train, y_train, batch_size, epochs, callbacks, val_data=val)"
   ]
  },
  {
   "cell_type": "code",
   "execution_count": 167,
   "metadata": {
    "colab": {
     "base_uri": "https://localhost:8080/",
     "height": 430
    },
    "id": "xIpLpNNaNhxB",
    "outputId": "386e99f9-2a52-4856-a926-53188804adc5"
   },
   "outputs": [
    {
     "data": {
      "image/png": "[encoded data removed]",
      "text/plain": [
       "<Figure size 640x480 with 1 Axes>"
      ]
     },
     "metadata": {},
     "output_type": "display_data"
    }
   ],
   "source": [
    "_ = log.plot()"
   ]
  },
  {
   "cell_type": "code",
   "execution_count": 168,
   "metadata": {
    "colab": {
     "base_uri": "https://localhost:8080/"
    },
    "id": "wy3CR-J2dE1h",
    "outputId": "487b3780-d135-4d87-9978-4b05abd08c8a"
   },
   "outputs": [
    {
     "data": {
      "text/plain": [
       "0.4623577296733856"
      ]
     },
     "execution_count": 168,
     "metadata": {},
     "output_type": "execute_result"
    }
   ],
   "source": [
    "log.to_pandas().val_loss.min()"
   ]
  },
  {
   "cell_type": "code",
   "execution_count": 169,
   "metadata": {
    "colab": {
     "base_uri": "https://localhost:8080/"
    },
    "id": "m_D2CJQ-dFHV",
    "outputId": "b4a64136-c22f-40ed-e478-2e3d0139bd01"
   },
   "outputs": [
    {
     "data": {
      "text/plain": [
       "{'loss': 0.4623577296733856}"
      ]
     },
     "execution_count": 169,
     "metadata": {},
     "output_type": "execute_result"
    }
   ],
   "source": [
    "model.score_in_batches(val)"
   ]
  },
  {
   "cell_type": "code",
   "execution_count": 170,
   "metadata": {
    "id": "RxYQxq4BdQUT"
   },
   "outputs": [],
   "source": [
    "#предсказываем\n",
    "surv = model.predict_surv_df(x_test)"
   ]
  },
  {
   "cell_type": "code",
   "execution_count": 171,
   "metadata": {
    "colab": {
     "base_uri": "https://localhost:8080/",
     "height": 449
    },
    "id": "vSonMwF3dZa0",
    "outputId": "55ba042f-e8a3-4838-fffd-07e0d863ef13"
   },
   "outputs": [
    {
     "data": {
      "image/png": "[encoded data removed]",
      "text/plain": [
       "<Figure size 640x480 with 1 Axes>"
      ]
     },
     "metadata": {},
     "output_type": "display_data"
    }
   ],
   "source": [
    "surv.iloc[:, :10].plot(drawstyle='steps-post')\n",
    "plt.ylabel('S(t | x)')\n",
    "_ = plt.xlabel('Time')"
   ]
  },
  {
   "cell_type": "code",
   "execution_count": 172,
   "metadata": {
    "id": "IIHZorg8dq4B"
   },
   "outputs": [],
   "source": [
    "surv = model.interpolate(20).predict_surv_df(x_test)"
   ]
  },
  {
   "cell_type": "code",
   "execution_count": 173,
   "metadata": {
    "colab": {
     "base_uri": "https://localhost:8080/",
     "height": 449
    },
    "id": "_AABb22cdsac",
    "outputId": "08098178-33cb-423a-ab23-224ec1f36edc"
   },
   "outputs": [
    {
     "data": {
      "image/png": "[encoded data removed]",
      "text/plain": [
       "<Figure size 640x480 with 1 Axes>"
      ]
     },
     "metadata": {},
     "output_type": "display_data"
    }
   ],
   "source": [
    "surv.iloc[:, :10].plot(drawstyle='steps-post')\n",
    "plt.ylabel('S(t | x)')\n",
    "_ = plt.xlabel('Time')"
   ]
  },
  {
   "cell_type": "code",
   "execution_count": 174,
   "metadata": {
    "colab": {
     "base_uri": "https://localhost:8080/"
    },
    "id": "lZjRzJGje4q4",
    "outputId": "4b54ce2a-2cc5-4197-e87a-7b1b112fec4a"
   },
   "outputs": [],
   "source": [
    "ev = EvalSurv(surv, months_test, events_test, censor_surv='km')"
   ]
  },
  {
   "cell_type": "code",
   "execution_count": 175,
   "metadata": {
    "colab": {
     "base_uri": "https://localhost:8080/"
    },
    "id": "W5JqQYOMe434",
    "outputId": "c68ef274-1c58-4060-85da-fc7baeac5557"
   },
   "outputs": [
    {
     "data": {
      "text/plain": [
       "0.9953782383419689"
      ]
     },
     "execution_count": 175,
     "metadata": {},
     "output_type": "execute_result"
    }
   ],
   "source": [
    "ev.concordance_td('antolini') # получился неожиданно высокий результат"
   ]
  },
  {
   "cell_type": "code",
   "execution_count": 176,
   "metadata": {
    "colab": {
     "base_uri": "https://localhost:8080/",
     "height": 449
    },
    "id": "7WSEuHOAe49z",
    "outputId": "a1501f1b-7757-48e0-ec1e-a72dbdbd1a71"
   },
   "outputs": [
    {
     "data": {
      "image/png": "[encoded data removed]",
      "text/plain": [
       "<Figure size 640x480 with 1 Axes>"
      ]
     },
     "metadata": {},
     "output_type": "display_data"
    }
   ],
   "source": [
    "time_grid = np.linspace(months_test.min(), months_test.max(), 100)\n",
    "ev.brier_score(time_grid).plot()\n",
    "plt.ylabel('Brier score')\n",
    "_ = plt.xlabel('Time')"
   ]
  },
  {
   "cell_type": "code",
   "execution_count": 177,
   "metadata": {
    "colab": {
     "base_uri": "https://localhost:8080/",
     "height": 449
    },
    "id": "G9zcdMWie5EU",
    "outputId": "8132bb2b-3cb9-4a12-f4a3-137127c62b7d"
   },
   "outputs": [
    {
     "data": {
      "image/png": "[encoded data removed]",
      "text/plain": [
       "<Figure size 640x480 with 1 Axes>"
      ]
     },
     "metadata": {},
     "output_type": "display_data"
    }
   ],
   "source": [
    "ev.nbll(time_grid).plot()\n",
    "plt.ylabel('NBLL')\n",
    "_ = plt.xlabel('Time')"
   ]
  },
  {
   "cell_type": "code",
   "execution_count": 178,
   "metadata": {
    "colab": {
     "base_uri": "https://localhost:8080/"
    },
    "id": "vnosR7SJf7XX",
    "outputId": "8e23dc5f-d7cf-4283-dcc6-502693cc7827"
   },
   "outputs": [
    {
     "data": {
      "text/plain": [
       "0.014900479172242308"
      ]
     },
     "execution_count": 178,
     "metadata": {},
     "output_type": "execute_result"
    }
   ],
   "source": [
    "ev.integrated_brier_score(time_grid) "
   ]
  },
  {
   "cell_type": "code",
   "execution_count": 179,
   "metadata": {
    "colab": {
     "base_uri": "https://localhost:8080/"
    },
    "id": "hvbDQA3sgC74",
    "outputId": "96adbd3d-ccbe-44d7-9c79-c1da8b711b52"
   },
   "outputs": [
    {
     "data": {
      "text/plain": [
       "0.056971559059085394"
      ]
     },
     "execution_count": 179,
     "metadata": {},
     "output_type": "execute_result"
    }
   ],
   "source": [
    "ev.integrated_nbll(time_grid) "
   ]
  },
  {
   "cell_type": "markdown",
   "metadata": {},
   "source": [
    "\n",
    "gene_df = X_full.iloc[:, 23:520]\n",
    "gene_df.drop(['radio_therapy', 'tumor_size', 'tumor_stage', 'pr_status', '3-gene_classifier_subtype', 'death_from_cancer'], axis= 1 , inplace= True )\n",
    "gene_df.head(5)"
   ]
  },
  {
   "cell_type": "markdown",
   "metadata": {},
   "source": [
    "gene_df = gene_df.fillna(gene_df.median())"
   ]
  },
  {
   "cell_type": "markdown",
   "metadata": {},
   "source": [
    "df_train_gen = gene_df\n",
    "df_test_gen = df_train_gen.sample(frac=0.2)\n",
    "df_train_gen = df_train_gen.drop(df_test_gen.index)\n",
    "df_val_gen = df_train_gen.sample(frac=0.2)\n",
    "df_train_gen = df_train_gen.drop(df_val_gen.index)"
   ]
  },
  {
   "cell_type": "markdown",
   "metadata": {},
   "source": [
    "cols_standardize_gen = []\n",
    "cols_leave_gen = ['overall_survival', 'overall_survival_months']\n",
    "\n",
    "standardize_gen = [([col], StandardScaler()) for col in cols_standardize_gen]\n",
    "leave_gen = [(col, None) for col in cols_leave_gen]\n",
    "\n",
    "x_mapper_gen = DataFrameMapper(standardize_gen + leave_gen)"
   ]
  },
  {
   "cell_type": "markdown",
   "metadata": {},
   "source": [
    "\n",
    "x_train_gen = x_mapper_gen.fit_transform(df_train_gen).astype('float32')\n",
    "x_val_gen = x_mapper_gen.fit_transform(df_val_gen).astype('float32')\n",
    "x_test_gen = x_mapper_gen.fit_transform(df_test_gen).astype('float32')"
   ]
  },
  {
   "cell_type": "markdown",
   "metadata": {},
   "source": [
    "num_durations = ?\n",
    "\n",
    "labtrans = LogisticHazard.label_transform(num_durations)\n",
    "\n",
    "get_target = lambda gene_df: (gene_df['overall_survival_months'].values, gene_df['overall_survival'].values)\n",
    "y_train_gen = labtrans.fit_transform(*get_target(df_train_gen))\n",
    "y_val_gen = labtrans.transform(*get_target(df_val_gen))\n",
    "train_gen = (x_train_gen, y_train_gen)\n",
    "val_gen = (x_val_gen, y_val_gen)\n",
    "\n",
    "durations_test, events_test = get_target(df_test_gen)"
   ]
  },
  {
   "cell_type": "markdown",
   "metadata": {},
   "source": [
    "type(labtrans)"
   ]
  },
  {
   "cell_type": "markdown",
   "metadata": {},
   "source": [
    "labtrans.cuts"
   ]
  },
  {
   "cell_type": "markdown",
   "metadata": {},
   "source": [
    "in_features = x_train_gen.shape[1]\n",
    "num_nodes = [32, 32]\n",
    "out_features = labtrans.out_features\n",
    "batch_norm = True\n",
    "dropout = 0.1\n",
    "\n",
    "net = tt.practical.MLPVanilla(in_features, num_nodes, out_features, batch_norm, dropout)"
   ]
  },
  {
   "cell_type": "markdown",
   "metadata": {},
   "source": [
    "model = LogisticHazard(net, tt.optim.Adam(0.01), duration_index=labtrans.cuts)"
   ]
  },
  {
   "cell_type": "markdown",
   "metadata": {},
   "source": [
    "batch_size = 256\n",
    "epochs = 500\n",
    "callbacks = [tt.cb.EarlyStopping()]"
   ]
  },
  {
   "cell_type": "markdown",
   "metadata": {},
   "source": [
    "log = model.fit(x_train_gen, y_train_gen, batch_size, epochs, callbacks, val_data=val)"
   ]
  },
  {
   "cell_type": "code",
   "execution_count": null,
   "metadata": {},
   "outputs": [],
   "source": []
  }
 ],
 "metadata": {
  "colab": {
   "provenance": []
  },
  "kernelspec": {
   "display_name": "Python 3 (ipykernel)",
   "language": "python",
   "name": "python3"
  },
  "language_info": {
   "codemirror_mode": {
    "name": "ipython",
    "version": 3
   },
   "file_extension": ".py",
   "mimetype": "text/x-python",
   "name": "python",
   "nbconvert_exporter": "python",
   "pygments_lexer": "ipython3",
   "version": "3.9.13"
  }
 },
 "nbformat": 4,
 "nbformat_minor": 1
}
