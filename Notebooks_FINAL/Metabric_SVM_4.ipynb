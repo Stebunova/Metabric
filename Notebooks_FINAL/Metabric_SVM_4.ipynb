{
  "nbformat": 4,
  "nbformat_minor": 0,
  "metadata": {
    "colab": {
      "provenance": []
    },
    "kernelspec": {
      "name": "python3",
      "display_name": "Python 3"
    },
    "language_info": {
      "name": "python"
    },
    "gpuClass": "standard"
  },
  "cells": [
    {
      "cell_type": "code",
      "source": [],
      "metadata": {
        "id": "HmZKZNQX0e6y"
      },
      "execution_count": null,
      "outputs": []
    },
    {
      "cell_type": "code",
      "source": [
        "!pip install scikit-survival"
      ],
      "metadata": {
        "colab": {
          "base_uri": "https://localhost:8080/"
        },
        "id": "14rLm5GoxrgS",
        "outputId": "a40eac20-455d-4367-e14d-bff62dfdb356"
      },
      "execution_count": 1,
      "outputs": [
        {
          "output_type": "stream",
          "name": "stdout",
          "text": [
            "Looking in indexes: https://pypi.org/simple, https://us-python.pkg.dev/colab-wheels/public/simple/\n",
            "Collecting scikit-survival\n",
            "  Downloading scikit_survival-0.20.0-cp310-cp310-manylinux_2_17_x86_64.manylinux2014_x86_64.whl (3.2 MB)\n",
            "\u001b[2K     \u001b[90m━━━━━━━━━━━━━━━━━━━━━━━━━━━━━━━━━━━━━━━━\u001b[0m \u001b[32m3.2/3.2 MB\u001b[0m \u001b[31m69.0 MB/s\u001b[0m eta \u001b[36m0:00:00\u001b[0m\n",
            "\u001b[?25hRequirement already satisfied: osqp!=0.6.0,!=0.6.1 in /usr/local/lib/python3.10/dist-packages (from scikit-survival) (0.6.2.post8)\n",
            "Requirement already satisfied: scikit-learn<1.3,>=1.2.0 in /usr/local/lib/python3.10/dist-packages (from scikit-survival) (1.2.2)\n",
            "Requirement already satisfied: ecos in /usr/local/lib/python3.10/dist-packages (from scikit-survival) (2.0.12)\n",
            "Requirement already satisfied: scipy>=1.3.2 in /usr/local/lib/python3.10/dist-packages (from scikit-survival) (1.10.1)\n",
            "Requirement already satisfied: pandas>=1.0.5 in /usr/local/lib/python3.10/dist-packages (from scikit-survival) (1.5.3)\n",
            "Requirement already satisfied: numexpr in /usr/local/lib/python3.10/dist-packages (from scikit-survival) (2.8.4)\n",
            "Requirement already satisfied: numpy in /usr/local/lib/python3.10/dist-packages (from scikit-survival) (1.22.4)\n",
            "Requirement already satisfied: joblib in /usr/local/lib/python3.10/dist-packages (from scikit-survival) (1.2.0)\n",
            "Requirement already satisfied: qdldl in /usr/local/lib/python3.10/dist-packages (from osqp!=0.6.0,!=0.6.1->scikit-survival) (0.1.7)\n",
            "Requirement already satisfied: python-dateutil>=2.8.1 in /usr/local/lib/python3.10/dist-packages (from pandas>=1.0.5->scikit-survival) (2.8.2)\n",
            "Requirement already satisfied: pytz>=2020.1 in /usr/local/lib/python3.10/dist-packages (from pandas>=1.0.5->scikit-survival) (2022.7.1)\n",
            "Requirement already satisfied: threadpoolctl>=2.0.0 in /usr/local/lib/python3.10/dist-packages (from scikit-learn<1.3,>=1.2.0->scikit-survival) (3.1.0)\n",
            "Requirement already satisfied: six>=1.5 in /usr/local/lib/python3.10/dist-packages (from python-dateutil>=2.8.1->pandas>=1.0.5->scikit-survival) (1.16.0)\n",
            "Installing collected packages: scikit-survival\n",
            "Successfully installed scikit-survival-0.20.0\n"
          ]
        }
      ]
    },
    {
      "cell_type": "code",
      "execution_count": 2,
      "metadata": {
        "id": "K0wNOC72xQ7g"
      },
      "outputs": [],
      "source": [
        "%matplotlib inline\n",
        "import numpy as np\n",
        "import matplotlib.pyplot as plt\n",
        "import pandas as pd\n",
        "import seaborn as sns\n",
        "from sklearn import set_config\n",
        "from sklearn.model_selection import ShuffleSplit, GridSearchCV\n",
        "\n",
        "from sksurv.column import encode_categorical\n",
        "from sksurv.metrics import concordance_index_censored\n",
        "from sksurv.svm import FastSurvivalSVM\n",
        "\n",
        "set_config(display=\"text\")  # displays text representation of estimators\n",
        "sns.set_style(\"whitegrid\")"
      ]
    },
    {
      "cell_type": "code",
      "source": [
        "from google.colab import files"
      ],
      "metadata": {
        "id": "HodBhyZKyeV8"
      },
      "execution_count": 3,
      "outputs": []
    },
    {
      "cell_type": "code",
      "source": [
        "X_full = pd.read_csv('/content/METABRIC_RNA_Mutation.csv', low_memory=False)"
      ],
      "metadata": {
        "id": "GUo4kL-wyFL2"
      },
      "execution_count": 4,
      "outputs": []
    },
    {
      "cell_type": "code",
      "source": [
        "clinical_df = X_full.iloc[:, :31]"
      ],
      "metadata": {
        "id": "hOaRX-owzWaB"
      },
      "execution_count": 5,
      "outputs": []
    },
    {
      "cell_type": "code",
      "source": [
        "clinical_df_inverted = clinical_df.copy()\n",
        "clinical_df_inverted['overall_survival'] = clinical_df_inverted['overall_survival'].replace([0,1],[1,0])"
      ],
      "metadata": {
        "id": "TuE3RW-3zWes"
      },
      "execution_count": 6,
      "outputs": []
    },
    {
      "cell_type": "code",
      "source": [
        "KM_df = clinical_df_inverted.copy()"
      ],
      "metadata": {
        "id": "a2QoOyNxzWka"
      },
      "execution_count": 7,
      "outputs": []
    },
    {
      "cell_type": "code",
      "source": [
        "KM_df[['overall_survival']] = KM_df[['overall_survival']].astype(bool)"
      ],
      "metadata": {
        "id": "6RNs7_cdzfCp"
      },
      "execution_count": 8,
      "outputs": []
    },
    {
      "cell_type": "code",
      "source": [
        "KM_df.drop(['patient_id', 'cohort', 'cancer_type', 'oncotree_code', 'death_from_cancer'], axis=1, inplace=True)"
      ],
      "metadata": {
        "id": "jOlTtx2UzfJY"
      },
      "execution_count": 9,
      "outputs": []
    },
    {
      "cell_type": "code",
      "source": [
        "X = KM_df.copy()\n",
        "X.drop(['overall_survival', 'overall_survival_months'], axis=1, inplace=True)"
      ],
      "metadata": {
        "id": "HZHrHkvJzfOC"
      },
      "execution_count": 10,
      "outputs": []
    },
    {
      "cell_type": "code",
      "source": [
        "y = KM_df.copy()\n",
        "y.drop(['age_at_diagnosis', 'type_of_breast_surgery',\n",
        "       'cancer_type_detailed', 'cellularity', 'chemotherapy',\n",
        "       'pam50_+_claudin-low_subtype', 'er_status_measured_by_ihc', 'er_status',\n",
        "       'neoplasm_histologic_grade', 'her2_status_measured_by_snp6',\n",
        "       'her2_status', 'tumor_other_histologic_subtype', 'hormone_therapy',\n",
        "       'inferred_menopausal_state', 'integrative_cluster',\n",
        "       'primary_tumor_laterality', 'lymph_nodes_examined_positive',\n",
        "       'mutation_count', 'nottingham_prognostic_index','pr_status',\n",
        "       'radio_therapy', '3-gene_classifier_subtype', 'tumor_size',\n",
        "       'tumor_stage'], axis=1, inplace=True)"
      ],
      "metadata": {
        "id": "edoiIEfNzfTk"
      },
      "execution_count": 11,
      "outputs": []
    },
    {
      "cell_type": "code",
      "source": [
        "y_rear = y[['overall_survival', 'overall_survival_months']]"
      ],
      "metadata": {
        "id": "n93Y67RtzsV0"
      },
      "execution_count": 12,
      "outputs": []
    },
    {
      "cell_type": "code",
      "source": [
        "new_y = y_rear[['overall_survival', 'overall_survival_months']].to_numpy()"
      ],
      "metadata": {
        "id": "qlNeCuDRzsaR"
      },
      "execution_count": 13,
      "outputs": []
    },
    {
      "cell_type": "code",
      "source": [
        "#Делаем структурированный массив\n",
        "dt=dtype=[('overall_survival', '?'), ('overall_survival_months', '<f8')]\n",
        "\n",
        "#Structured array\n",
        "struct_y = np.array([tuple(row) for row in new_y], dtype=dt)\n",
        "struct_y"
      ],
      "metadata": {
        "colab": {
          "base_uri": "https://localhost:8080/"
        },
        "id": "Kt0k8VMLzsfI",
        "outputId": "d655af65-d6a1-434c-fab3-4dad6eedb4a7"
      },
      "execution_count": 14,
      "outputs": [
        {
          "output_type": "execute_result",
          "data": {
            "text/plain": [
              "array([(False, 140.5       ), (False,  84.63333333),\n",
              "       ( True, 163.7       ), ..., ( True, 175.9666667 ),\n",
              "       ( True,  86.23333333), ( True, 201.9       )],\n",
              "      dtype=[('overall_survival', '?'), ('overall_survival_months', '<f8')])"
            ]
          },
          "metadata": {},
          "execution_count": 14
        }
      ]
    },
    {
      "cell_type": "code",
      "source": [
        "X_cat = encode_categorical(X)\n",
        "X_cat = X_cat.fillna(X_cat.median())"
      ],
      "metadata": {
        "colab": {
          "base_uri": "https://localhost:8080/"
        },
        "id": "x3Yy7W_5z1qZ",
        "outputId": "a9e60ef9-18b9-44da-842e-5b030cac1bdb"
      },
      "execution_count": 15,
      "outputs": [
        {
          "output_type": "stream",
          "name": "stderr",
          "text": [
            "/usr/local/lib/python3.10/dist-packages/sksurv/column.py:137: FutureWarning: iteritems is deprecated and will be removed in a future version. Use .items instead.\n",
            "  columns_to_encode = {nam for nam, s in table.iteritems() if _is_categorical_or_object(s)}\n",
            "/usr/local/lib/python3.10/dist-packages/sksurv/column.py:142: FutureWarning: iteritems is deprecated and will be removed in a future version. Use .items instead.\n",
            "  for name, series in table.iteritems():\n"
          ]
        }
      ]
    },
    {
      "cell_type": "code",
      "source": [
        "n_censored = struct_y.shape[0] - struct_y[\"overall_survival\"].sum()\n",
        "print(\"%.1f%% of records are censored\" % (n_censored / struct_y.shape[0] * 100))"
      ],
      "metadata": {
        "colab": {
          "base_uri": "https://localhost:8080/"
        },
        "id": "MY8NI55oz5DX",
        "outputId": "c0713597-fcf6-41d6-f04b-4a458316fbba"
      },
      "execution_count": 16,
      "outputs": [
        {
          "output_type": "stream",
          "name": "stdout",
          "text": [
            "42.1% of records are censored\n"
          ]
        }
      ]
    },
    {
      "cell_type": "code",
      "source": [
        "plt.figure(figsize=(9, 6))\n",
        "val, bins, patches = plt.hist((struct_y[\"overall_survival_months\"][struct_y[\"overall_survival\"]],\n",
        "                               struct_y[\"overall_survival_months\"][~struct_y[\"overall_survival\"]]),\n",
        "                              bins=30, stacked=True)\n",
        "_ = plt.legend(patches, [\"Time of Death\", \"Time of Censoring\"])"
      ],
      "metadata": {
        "colab": {
          "base_uri": "https://localhost:8080/",
          "height": 522
        },
        "id": "G4Djjtigz5K1",
        "outputId": "576005be-e498-4d9d-a151-55954207c1bb"
      },
      "execution_count": 17,
      "outputs": [
        {
          "output_type": "display_data",
          "data": {
            "text/plain": [
              "<Figure size 900x600 with 1 Axes>"
            ],
            "image/png": "[encoded data removed]"
          },
          "metadata": {}
        }
      ]
    },
    {
      "cell_type": "code",
      "source": [
        "estimator = FastSurvivalSVM(max_iter=1000, tol=1e-5, random_state=0)"
      ],
      "metadata": {
        "id": "o_T_4z6nz5TR"
      },
      "execution_count": 18,
      "outputs": []
    },
    {
      "cell_type": "code",
      "source": [
        "def score_survival_model(model, X_cat, struct_y):\n",
        "    prediction = model.predict(X_cat)\n",
        "    result = concordance_index_censored(struct_y['overall_survival'], struct_y['overall_survival_months'], prediction)\n",
        "    return result[0]"
      ],
      "metadata": {
        "id": "A3mPaWFSz15o"
      },
      "execution_count": 19,
      "outputs": []
    },
    {
      "cell_type": "code",
      "source": [
        "param_grid = {'alpha': 2. ** np.arange(-12, 13, 2)}\n",
        "cv = ShuffleSplit(n_splits=100, test_size=0.5, random_state=0)\n",
        "gcv = GridSearchCV(estimator, param_grid, scoring=score_survival_model,\n",
        "                   n_jobs=1, refit=False,\n",
        "                   cv=cv)"
      ],
      "metadata": {
        "id": "W5QsdZId0Hj8"
      },
      "execution_count": 20,
      "outputs": []
    },
    {
      "cell_type": "code",
      "source": [
        "import warnings\n",
        "warnings.filterwarnings(\"ignore\", category=UserWarning)\n",
        "gcv = gcv.fit(X_cat, struct_y)"
      ],
      "metadata": {
        "id": "PJ1bID_h0Hpt"
      },
      "execution_count": 21,
      "outputs": []
    },
    {
      "cell_type": "code",
      "source": [
        "round(gcv.best_score_, 3), gcv.best_params_"
      ],
      "metadata": {
        "colab": {
          "base_uri": "https://localhost:8080/"
        },
        "id": "BYgynBkN0HvP",
        "outputId": "a3367d14-7ec5-4715-ab9a-7707d3f43ac2"
      },
      "execution_count": 22,
      "outputs": [
        {
          "output_type": "execute_result",
          "data": {
            "text/plain": [
              "(0.682, {'alpha': 0.000244140625})"
            ]
          },
          "metadata": {},
          "execution_count": 22
        }
      ]
    },
    {
      "cell_type": "code",
      "source": [
        "def plot_performance(gcv):\n",
        "    n_splits = gcv.cv.n_splits\n",
        "    cv_scores = {\"alpha\": [], \"test_score\": [], \"split\": []}\n",
        "    order = []\n",
        "    for i, params in enumerate(gcv.cv_results_[\"params\"]):\n",
        "        name = \"%.5f\" % params[\"alpha\"]\n",
        "        order.append(name)\n",
        "        for j in range(n_splits):\n",
        "            vs = gcv.cv_results_[\"split%d_test_score\" % j][i]\n",
        "            cv_scores[\"alpha\"].append(name)\n",
        "            cv_scores[\"test_score\"].append(vs)\n",
        "            cv_scores[\"split\"].append(j)\n",
        "    df = pd.DataFrame.from_dict(cv_scores)\n",
        "    _, ax = plt.subplots(figsize=(11, 6))\n",
        "    sns.boxplot(x=\"alpha\", y=\"test_score\", data=df, order=order, ax=ax)\n",
        "    _, xtext = plt.xticks()\n",
        "    for t in xtext:\n",
        "        t.set_rotation(\"vertical\")"
      ],
      "metadata": {
        "id": "dw7uPxQr0HzW"
      },
      "execution_count": 23,
      "outputs": []
    },
    {
      "cell_type": "code",
      "source": [
        "plot_performance(gcv)"
      ],
      "metadata": {
        "colab": {
          "base_uri": "https://localhost:8080/",
          "height": 611
        },
        "id": "PbUWjujG0H3t",
        "outputId": "5ee1f503-d503-4bdd-8c4f-6c894524020d"
      },
      "execution_count": 24,
      "outputs": [
        {
          "output_type": "display_data",
          "data": {
            "text/plain": [
              "<Figure size 1100x600 with 1 Axes>"
            ],
            "image/png": "[encoded data removed]"
          },
          "metadata": {}
        }
      ]
    },
    {
      "cell_type": "code",
      "source": [
        "# классификация\n",
        "estimator.set_params(**gcv.best_params_)\n",
        "estimator.fit(X_cat, struct_y)"
      ],
      "metadata": {
        "colab": {
          "base_uri": "https://localhost:8080/"
        },
        "id": "L3tfoczBKmrL",
        "outputId": "b7e50b94-16d4-4766-9fd1-e92e333fc8b4"
      },
      "execution_count": 25,
      "outputs": [
        {
          "output_type": "execute_result",
          "data": {
            "text/plain": [
              "FastSurvivalSVM(alpha=0.000244140625, max_iter=1000, optimizer='avltree',\n",
              "                random_state=0, tol=1e-05)"
            ]
          },
          "metadata": {},
          "execution_count": 25
        }
      ]
    },
    {
      "cell_type": "code",
      "source": [
        "pred = estimator.predict(X_cat.iloc[9:11])\n",
        "print(np.round(pred, 3))\n",
        "print(y[9:11])"
      ],
      "metadata": {
        "colab": {
          "base_uri": "https://localhost:8080/"
        },
        "id": "to1n3ut4Km4U",
        "outputId": "f693dc7d-a3d0-4aff-b9a9-9fa1416a93fa"
      },
      "execution_count": 26,
      "outputs": [
        {
          "output_type": "stream",
          "name": "stdout",
          "text": [
            "[1.624 1.448]\n",
            "    overall_survival_months  overall_survival\n",
            "9                 36.266667              True\n",
            "10               132.033333              True\n"
          ]
        }
      ]
    },
    {
      "cell_type": "code",
      "source": [
        "#регрессия - но что-то пошло не так, с ошибкой не получается разобраться\n",
        "ref_estimator = FastSurvivalSVM(rank_ratio=0.0, max_iter=1000, tol=1e-5, random_state=0)\n",
        "ref_estimator.fit(X_cat, struct_y)\n",
        "\n",
        "cindex = concordance_index_censored(\n",
        "    struct_y['overall_survival'],\n",
        "    struct_y['overall_survival_months'],\n",
        "    -ref_estimator.predict(X_cat),  # flip sign to obtain risk scores\n",
        ")\n",
        "print(round(cindex[0], 3))"
      ],
      "metadata": {
        "colab": {
          "base_uri": "https://localhost:8080/",
          "height": 357
        },
        "id": "V3nICONqIpX5",
        "outputId": "367dba65-d532-49b6-cd9e-d12ef9d7295a"
      },
      "execution_count": 27,
      "outputs": [
        {
          "output_type": "error",
          "ename": "ValueError",
          "evalue": "ignored",
          "traceback": [
            "\u001b[0;31m---------------------------------------------------------------------------\u001b[0m",
            "\u001b[0;31mValueError\u001b[0m                                Traceback (most recent call last)",
            "\u001b[0;32m<ipython-input-27-c36d0ac595d6>\u001b[0m in \u001b[0;36m<cell line: 3>\u001b[0;34m()\u001b[0m\n\u001b[1;32m      1\u001b[0m \u001b[0;31m#регрессия\u001b[0m\u001b[0;34m\u001b[0m\u001b[0;34m\u001b[0m\u001b[0m\n\u001b[1;32m      2\u001b[0m \u001b[0mref_estimator\u001b[0m \u001b[0;34m=\u001b[0m \u001b[0mFastSurvivalSVM\u001b[0m\u001b[0;34m(\u001b[0m\u001b[0mrank_ratio\u001b[0m\u001b[0;34m=\u001b[0m\u001b[0;36m0.0\u001b[0m\u001b[0;34m,\u001b[0m \u001b[0mmax_iter\u001b[0m\u001b[0;34m=\u001b[0m\u001b[0;36m1000\u001b[0m\u001b[0;34m,\u001b[0m \u001b[0mtol\u001b[0m\u001b[0;34m=\u001b[0m\u001b[0;36m1e-5\u001b[0m\u001b[0;34m,\u001b[0m \u001b[0mrandom_state\u001b[0m\u001b[0;34m=\u001b[0m\u001b[0;36m0\u001b[0m\u001b[0;34m)\u001b[0m\u001b[0;34m\u001b[0m\u001b[0;34m\u001b[0m\u001b[0m\n\u001b[0;32m----> 3\u001b[0;31m \u001b[0mref_estimator\u001b[0m\u001b[0;34m.\u001b[0m\u001b[0mfit\u001b[0m\u001b[0;34m(\u001b[0m\u001b[0mX_cat\u001b[0m\u001b[0;34m,\u001b[0m \u001b[0mstruct_y\u001b[0m\u001b[0;34m)\u001b[0m\u001b[0;34m\u001b[0m\u001b[0;34m\u001b[0m\u001b[0m\n\u001b[0m\u001b[1;32m      4\u001b[0m \u001b[0;34m\u001b[0m\u001b[0m\n\u001b[1;32m      5\u001b[0m cindex = concordance_index_censored(\n",
            "\u001b[0;32m/usr/local/lib/python3.10/dist-packages/sksurv/svm/survival_svm.py\u001b[0m in \u001b[0;36mfit\u001b[0;34m(self, X, y)\u001b[0m\n\u001b[1;32m    710\u001b[0m \u001b[0;34m\u001b[0m\u001b[0m\n\u001b[1;32m    711\u001b[0m             \u001b[0;32mif\u001b[0m \u001b[0;34m(\u001b[0m\u001b[0mtime\u001b[0m \u001b[0;34m<=\u001b[0m \u001b[0;36m0\u001b[0m\u001b[0;34m)\u001b[0m\u001b[0;34m.\u001b[0m\u001b[0many\u001b[0m\u001b[0;34m(\u001b[0m\u001b[0;34m)\u001b[0m\u001b[0;34m:\u001b[0m\u001b[0;34m\u001b[0m\u001b[0;34m\u001b[0m\u001b[0m\n\u001b[0;32m--> 712\u001b[0;31m                 \u001b[0;32mraise\u001b[0m \u001b[0mValueError\u001b[0m\u001b[0;34m(\u001b[0m\u001b[0;34m\"observed time contains values smaller or equal to zero\"\u001b[0m\u001b[0;34m)\u001b[0m\u001b[0;34m\u001b[0m\u001b[0;34m\u001b[0m\u001b[0m\n\u001b[0m\u001b[1;32m    713\u001b[0m \u001b[0;34m\u001b[0m\u001b[0m\n\u001b[1;32m    714\u001b[0m             \u001b[0;31m# log-transform time\u001b[0m\u001b[0;34m\u001b[0m\u001b[0;34m\u001b[0m\u001b[0m\n",
            "\u001b[0;31mValueError\u001b[0m: observed time contains values smaller or equal to zero"
          ]
        }
      ]
    },
    {
      "cell_type": "code",
      "source": [
        "pred = ref_estimator.predict(X_cat.iloc[9:11])\n",
        "print(np.round(pred, 3))"
      ],
      "metadata": {
        "id": "6NBWmK8fJBiK"
      },
      "execution_count": null,
      "outputs": []
    },
    {
      "cell_type": "code",
      "source": [
        "#Kernel survival SVM - к сожалению, занимает большое количество времени, решено воздержаться от продолжения\n",
        "#from sksurv.kernels import clinical_kernel\n",
        "#from sksurv.svm import FastKernelSurvivalSVM"
      ],
      "metadata": {
        "id": "d1tul91ZKm8I"
      },
      "execution_count": null,
      "outputs": []
    },
    {
      "cell_type": "code",
      "source": [
        "#kernel_matrix = clinical_kernel(X_cat)"
      ],
      "metadata": {
        "id": "MJh66RzzKnAY"
      },
      "execution_count": null,
      "outputs": []
    },
    {
      "cell_type": "code",
      "source": [
        "#kssvm = FastKernelSurvivalSVM(optimizer=\"rbtree\", kernel=\"precomputed\", random_state=0)\n",
        "\n",
        "#kgcv = GridSearchCV(kssvm, param_grid, scoring=score_survival_model,\n",
        "#                   n_jobs=1, refit=False,\n",
        "#                   cv=cv)"
      ],
      "metadata": {
        "id": "U6XpotJBKnEn"
      },
      "execution_count": null,
      "outputs": []
    },
    {
      "cell_type": "code",
      "source": [],
      "metadata": {
        "id": "NAgpJHm-K_8A"
      },
      "execution_count": null,
      "outputs": []
    },
    {
      "cell_type": "code",
      "source": [
        "#kgcv = kgcv.fit(kernel_matrix, struct_y)"
      ],
      "metadata": {
        "id": "nKBXHP-qLAIC"
      },
      "execution_count": null,
      "outputs": []
    }
  ]
}